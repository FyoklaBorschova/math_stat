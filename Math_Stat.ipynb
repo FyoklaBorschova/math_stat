{
 "cells": [
  {
   "cell_type": "markdown",
   "metadata": {},
   "source": [
    "<style>\n",
    "br{\n",
    "padding-top:0px !important;\n",
    "padding-bottom:0px !important;\n",
    "margin-top:0px !important;\n",
    "margin-bottom:0px !important;\n",
    "}\n",
    "</style>\n",
    "<br/> \n",
    "[Cинтаксис **math**](https://pythonworld.ru/moduli/modul-math.html)"
   ]
  },
  {
   "cell_type": "code",
   "execution_count": 1,
   "metadata": {},
   "outputs": [],
   "source": [
    "import math"
   ]
  },
  {
   "cell_type": "markdown",
   "metadata": {},
   "source": [
    "<br/> \n",
    "[Cинтаксис **statistic**](https://docs.python.org/3/library/statistics.html)"
   ]
  },
  {
   "cell_type": "code",
   "execution_count": 2,
   "metadata": {},
   "outputs": [],
   "source": [
    "import statistics"
   ]
  },
  {
   "cell_type": "markdown",
   "metadata": {},
   "source": [
    "<br/> \n",
    "[Cинтаксис **scipy.stats**](https://docs.scipy.org/doc/scipy/reference/stats.html)"
   ]
  },
  {
   "cell_type": "code",
   "execution_count": 3,
   "metadata": {},
   "outputs": [],
   "source": [
    "from scipy import stats "
   ]
  },
  {
   "cell_type": "markdown",
   "metadata": {},
   "source": [
    "<br/> \n",
    "[Cинтаксис **pandas**](https://pandas.pydata.org/pandas-docs/stable/reference/)"
   ]
  },
  {
   "cell_type": "code",
   "execution_count": 4,
   "metadata": {},
   "outputs": [],
   "source": [
    "import pandas as pd"
   ]
  },
  {
   "cell_type": "markdown",
   "metadata": {},
   "source": [
    "<br/> \n",
    "NumPy: [1l](https://pythonworld.ru/numpy/1.html)\n",
    "[2l](https://pythonworld.ru/numpy/2.html)\n",
    "[3l](https://pythonworld.ru/numpy/3.html)\n",
    "[4l](https://pythonworld.ru/numpy/4.html)"
   ]
  },
  {
   "cell_type": "code",
   "execution_count": 5,
   "metadata": {},
   "outputs": [],
   "source": [
    "import numpy as np"
   ]
  },
  {
   "cell_type": "markdown",
   "metadata": {},
   "source": [
    "![marshrut](pictures/marshrut.jpg)\n",
    "\n",
    "[Statistical Methods for HCI Research](https://yatani.jp/teaching/doku.php?id=hcistats:start)"
   ]
  },
  {
   "cell_type": "markdown",
   "metadata": {},
   "source": [
    "<br/><br/> \n",
    "<center><span style=\"color:black; font-weight: bold; font-size:24pt\">Основы статистики</span></center>\n",
    "<br/><br/> "
   ]
  },
  {
   "cell_type": "markdown",
   "metadata": {},
   "source": [
    "<span style=\"color: orange; font-weight: bold; font-size:12pt\">Генеральная совокупность</span> – множество всех объектов, относительно которых делаются выводы в рамках исследования.\n",
    "\n",
    "<br></br>\n",
    "<span style=\"color: orange; font-weight: bold; font-size:12pt\">Выборка</span> – часть генеральной совокупности элементов, которая охватывается экспериментом (наблюдением, опросом).\n",
    "\n",
    "+ **Простая случайная выборка (simple random sample)**\n",
    "<br></br><br></br>\n",
    "+ **Стратифицированная выборка (stratified sample)**<br></br>(Разбивка на группы по определённому признаку. При этом закономерности, найденные в группе будут верными только для этой группы)\n",
    "<br></br><br></br>\n",
    "+ **Групповая выборка (claster sample)**(Разбивка на группы, где частное отражает свойство целого)\n",
    "\n",
    "<br></br>\n",
    "\n",
    "<span style=\"color: green; font-weight: bold; font-size:12pt\">Типы переменных:</span>\n",
    "\n",
    "+ **Количественные (numerical)** – измеренные значения:\n",
    "    + Непрерывные ([0; 1]);\n",
    "    + Дискретные (1, 2,..).<br></br><br></br>\n",
    "+ **Номинативные (categorical)** – разделение на группы по категориям (#, 1=м, 2=ж).<br></br><br></br>\n",
    "+ **Ранговые (ordinal)** – операции сравнения (распределение мест в забеге).\n",
    "\n",
    "<br></br>\n",
    "\n",
    "<span style=\"color: green; font-weight: bold; font-size:12pt\">Виды графиков:</span>\n",
    "\n",
    "+ **Histogramm (гистограмма)** – график, показывающий как часто значение переменной встречается на определенном промежутке.<br></br><br></br>\n",
    "+ **Dot plot (точечный график)** – график, в котором каждой точке соответствует одно значение выборки.<br></br><br></br>\n",
    "+ **[Box plot](https://stepik.org/lesson/9294/step/4?unit=1827) (ящик с усами)** – график, показывающий медиану, нижний и верхний квартили, минимальное и максимальное значение выборки и выбросы. В ящик попадют значения (50% измерений), лежащих между квантилями <i>X<span style= \"font-weight: bold; font-size:7pt\">0.25</span></i> и <i>X<span style= \"font-weight: bold; font-size:7pt\">0.75</span></i>. Вверх и вниз от ящика исходят два отрезка равные <i>1.5*(X<span style= \"font-weight: bold; font-size:7pt\">0.75</span> - X<span style= \"font-weight: bold; font-size:7pt\">0.25</span>)</i>, то есть полтора межквартильных размаха. Точки, превышающие с своем отклонении полтора межквартильных размаха, отображаются отдельно.<br></br><br></br>\n",
    "+ **[Q-Q plot](https://stepik.org/lesson/8082/step/4?unit=1361) (график квантиль-квантиль)** – показывает насколько выборочное значение соответствует нормальному распределению, линия – идеальное нормальное распределение.<br></br><br></br>\n",
    "+ **Scatter plot (диаграмма рассеяния)** – диагрмма, изображающая значения двух переменных в виде точек на декартовой плоскости.<br></br><br></br>\n",
    "+ **Biplot** – график первых двух компонент с вкладом каждой переменной.\n",
    "\n",
    "<br></br><br></br>\n",
    "\n",
    "<center><span style=\"color: violet; font-weight: bold; font-size:14pt\">Меры центральной тенденции</span></center><br></br>\n",
    "\n",
    "<span style=\"color: orange; font-weight: bold; font-size:12pt\">Мода</span> (mode) – значение признака, котороые встречается максимально часто."
   ]
  },
  {
   "cell_type": "code",
   "execution_count": 6,
   "metadata": {},
   "outputs": [
    {
     "name": "stdout",
     "output_type": "stream",
     "text": [
      "Мода = 1 = 1\n"
     ]
    }
   ],
   "source": [
    "data_first = [1, 5, 2, 7, 1, 9, 3, 8, 5, 9, 1, 2]\n",
    "\n",
    "#python:\n",
    "count_values = {}\n",
    "max_count = 1\n",
    "mode_element = data_first[0]\n",
    "\n",
    "for d in data_first:\n",
    "    count_values[d] = count_values.get(d,0)+1\n",
    "    if count_values[d] > max_count:\n",
    "        max_count = count_values[d]\n",
    "        mode = d\n",
    "\n",
    "\n",
    "#import statistics\n",
    "mode_statistics = statistics.mode(data_first)\n",
    "print(f'Мода = {mode} = {mode_statistics}')"
   ]
  },
  {
   "cell_type": "markdown",
   "metadata": {},
   "source": [
    "<br></br>\n",
    "<span style=\"color: orange; font-weight: bold; font-size:12pt\">Медиана</span> (median) – значение признака, которое делит упорядоченное множество данных пополам."
   ]
  },
  {
   "cell_type": "code",
   "execution_count": 7,
   "metadata": {},
   "outputs": [
    {
     "name": "stdout",
     "output_type": "stream",
     "text": [
      "Медиана = 4.0 = 4.0\n"
     ]
    }
   ],
   "source": [
    "#python:\n",
    "def calculate_median(array):\n",
    "    array = sorted(array)\n",
    "    average_of_array = len(array)//2\n",
    "    if len(array)%2 == 0:\n",
    "        median = (array[average_of_array-1]+array[average_of_array])/2\n",
    "    else:\n",
    "        median = array[average_of_array]\n",
    "    return median\n",
    "\n",
    "median = calculate_median(data_first)\n",
    "\n",
    "\n",
    "#import statistics\n",
    "median_statistics = statistics.median(data_first)\n",
    "print(f'Медиана = {median} = {median_statistics}')"
   ]
  },
  {
   "cell_type": "markdown",
   "metadata": {},
   "source": [
    "<br></br>\n",
    "<span style=\"color: orange; font-weight: bold; font-size:12pt\">Среднее значение</span> (mean) – сумма всех значений признака, деленная на количество измеренных значений.\n",
    "\n",
    "<br></br>\n",
    "<center><strong><i>M<span style= \"font-weight: bold; font-size:7pt\">x</span> = ∑x<span style= \"font-weight: bold; font-size:7pt\">i</span> / n</i></strong></center><br></br>"
   ]
  },
  {
   "cell_type": "code",
   "execution_count": 8,
   "metadata": {},
   "outputs": [
    {
     "name": "stdout",
     "output_type": "stream",
     "text": [
      "Среднее значение = 4.416666666666667 = 4.416666666666667\n"
     ]
    }
   ],
   "source": [
    "#python:\n",
    "mean = sum(data_first)/len(data_first)\n",
    "\n",
    "\n",
    "#import statistics\n",
    "mean_statistics = statistics.mean(data_first)\n",
    "print(f'Среднее значение = {mean} = {mean_statistics}')"
   ]
  },
  {
   "cell_type": "markdown",
   "metadata": {},
   "source": [
    "<span style=\"color: green; font-weight: bold; font-size:12pt\">Обозначения:</span>\n",
    "\n",
    "<i>M<span style= \"font-weight: bold; font-size:7pt\">x</span></i> - среднее значение генеральной совокупности,<br></br><br></br>\n",
    "<span style = \"text-decoration: overline\">X</span> - среднее значение выборки.\n",
    "\n",
    "<br></br>\n",
    "\n",
    "<span style=\"color: green; font-weight: bold; font-size:12pt\">Свойста среднего:</span><br></br>\n",
    "+ <i>M<span style= \"font-weight: bold; font-size:7pt\">x+C</span> = M<span style= \"font-weight: bold; font-size:7pt\">x</span> + C</i><br></br><br></br>\n",
    "+ <i>M<span style= \"font-weight: bold; font-size:7pt\">x * C</span> = M<span style= \"font-weight: bold; font-size:7pt\">x</span> * C</i><br></br><br></br>\n",
    "+ <i>∑(x<span style= \"font-weight: bold; font-size:7pt\">i</span> - M<span style= \"font-weight: bold; font-size:7pt\">x</span>) = 0</i>"
   ]
  },
  {
   "cell_type": "markdown",
   "metadata": {},
   "source": [
    "<center><span style=\"color: violet; font-weight: bold; font-size:14pt\">Меры изменчивости</span></center>\n",
    "\n",
    "<span style=\"color: orange; font-weight: bold; font-size:12pt\">Размах</span> (range) – разность максимального и минимального значения."
   ]
  },
  {
   "cell_type": "code",
   "execution_count": 9,
   "metadata": {},
   "outputs": [
    {
     "name": "stdout",
     "output_type": "stream",
     "text": [
      "Размах = 8\n"
     ]
    }
   ],
   "source": [
    "#python:\n",
    "range_data = max(data_first) - min(data_first)\n",
    "print(f'Размах = {range_data}')"
   ]
  },
  {
   "cell_type": "markdown",
   "metadata": {},
   "source": [
    "<br></br>\n",
    "<span style=\"color: orange; font-weight: bold; font-size:12pt\">Дисперсия</span> (variance) – средний квадрат отклонений индивидуальных значений признака от их средней величины.\n",
    "\n",
    "<br></br>\n",
    "<center><strong><i>D<span style= \"font-weight: bold; font-size: 7pt\">x</span> = ∑(x<span style=\"font-weight: bold; font-size: 7pt\">i</span> - <span style = \"text-decoration: overline\">x</span>)² / (n-1)</i></strong></center><br></br>"
   ]
  },
  {
   "cell_type": "code",
   "execution_count": 10,
   "metadata": {},
   "outputs": [
    {
     "name": "stdout",
     "output_type": "stream",
     "text": [
      "Дисперсия = 10.083333333333334 = 10.083333333333334\n"
     ]
    }
   ],
   "source": [
    "#python:\n",
    "deviation_sum_of_data = 0\n",
    "\n",
    "for x_i in data_first:\n",
    "    deviation_sum_of_data += (x_i - mean)**2\n",
    "\n",
    "variance = deviation_sum_of_data / (len(data_first) - 1)\n",
    "\n",
    "\n",
    "#import statistics\n",
    "variance_statistics = statistics.variance(data_first)\n",
    "print(f'Дисперсия = {variance} = {variance_statistics}')"
   ]
  },
  {
   "cell_type": "markdown",
   "metadata": {},
   "source": [
    "<br></br>\n",
    "<span style=\"color: orange; font-weight: bold; font-size:12pt\">Среднеквадратическое отклонение</span> (standard deviation, стандартное отклонение) – среднее отклонение индивидуальных значений признака от их средней величины.\n",
    "\n",
    "<center><strong><i>σ = √D<span style= \"font-weight: bold; font-size: 7pt\">x</span></i></strong></center><br></br>"
   ]
  },
  {
   "cell_type": "code",
   "execution_count": 11,
   "metadata": {},
   "outputs": [
    {
     "name": "stdout",
     "output_type": "stream",
     "text": [
      "Среднеквадратическое отклонение = 3.1754264805429417 = 3.1754264805429417\n"
     ]
    }
   ],
   "source": [
    "#python:\n",
    "standard_deviation = variance**(1/2)\n",
    "\n",
    "\n",
    "#import statistics\n",
    "standard_deviation_statistics = statistics.stdev(data_first)\n",
    "print(f'Среднеквадратическое отклонение = {standard_deviation} = {standard_deviation_statistics}')"
   ]
  },
  {
   "cell_type": "markdown",
   "metadata": {},
   "source": [
    "<span style=\"color: green; font-weight: bold; font-size:12pt\">Обозначения:</span>\n",
    "\n",
    "<i>D<span style= \"font-weight: bold; font-size:7pt\">x</span></i> – дисперсия генеральной совокупности,<br></br><br></br>\n",
    "σ – станадртное отклонение генеральной совокупности,<br></br><br></br>\n",
    "<i>sd<span style= \"font-weight: bold; font-size:7pt\">x</span></i> – стандартное отклонение выборки.\n",
    "\n",
    "<br></br>\n",
    "\n",
    "<span style=\"color: green; font-weight: bold; font-size: 12pt\">Свойста дисперсии:</span><br></br>\n",
    "+ <i>D<span style=\"font-weight: bold; font-size: 7pt\">x+С</span> = D<span style=\"font-weight: bold; font-size: 7pt\">x</span></i> ; <i>sd<span style=\"font-weight: bold; font-size: 7pt\">x+С</span> = sd<span style=\"font-weight: bold; font-size: 7pt\">x</span></i><br></br><br></br>\n",
    "+ <i>D<span style=\"font-weight: bold; font-size: 7pt\">x * С</span> = D<span style=\"font-weight: bold; font-size: 7pt\">x</span> * C²</i> ; <i>sd<span style=\"font-weight: bold; font-size: 7pt\">x * С</span> = sd<span style=\"font-weight: bold; font-size: 7pt\">x</span> * C</i>"
   ]
  },
  {
   "cell_type": "markdown",
   "metadata": {},
   "source": [
    "<center><span style=\"color: violet; font-weight: bold; font-size:14pt\">Квантили распределения</span></center>\n",
    "\n",
    "<span style=\"color: orange; font-weight: bold; font-size:12pt\">Квантиль</span> – значение, которое заданная случайная величина не превышает с фиксированной вероятностью: <i>P(X ≤ x<span style= \"font-weight: bold; font-size: 7pt\">α</span>) ≥ α</i>\n",
    "\n",
    "<span style=\"color: orange; font-weight: bold; font-size:12pt\">Квартили</span> –  три значения признака, которые делят упорядоченное множество данных на четыре равные части."
   ]
  },
  {
   "cell_type": "markdown",
   "metadata": {},
   "source": [
    "<br></br><br></br>\n",
    "<center><span style=\"color: violet; font-weight: bold; font-size:14pt\">Нормальное распределение</span></center>\n",
    "\n",
    "![normalnoe_raspredelenie](pictures/normalnoe_raspredelenie.jpg)<br></br>\n",
    "\n",
    "<span style = \"color: orange; font-weight: bold; font-size:12pt\">Нормальное распределение</span> унимодально, симметрично, отконения наблюдений от среднего подчиняются определенному вероятностному закону <strong><ins>(правило 3σ):</ins></strong>\n",
    "\n",
    "+ <i>P(<span style = \"text-decoration: overline\">x</span> - σ < X < <span style = \"text-decoration: overline\">x</span> + σ) = 0.68</i><br></br><br></br>\n",
    "+ <i>P(<span style = \"text-decoration: overline\">x</span> - 2σ < X < <span style = \"text-decoration: overline\">x</span> + 2σ) = 0.95</i><br></br><br></br>\n",
    "+ <i>P(<span style = \"text-decoration: overline\">x</span> - 3σ < X < <span style = \"text-decoration: overline\">x</span> + 3σ) = 0.99</i>\n",
    "\n",
    "<br></br>\n",
    "\n",
    "<span style=\"color: orange; font-weight: bold; font-size:12pt\">Стандартизация (Z-преобразование)</span> – преобразование полученных данных в стандартную Z-шкалу (Z-scores) со средним M<span style= \"font-weight: bold; font-size:7pt\">z</span> = 0 и дисперсией D<span style= \"font-weight: bold; font-size:7pt\">z</span> = 1.\n",
    "\n",
    "Z-преобразование наглядно показывает, сколько стандартных отклонений между значениями (1 стандартное отклонение = 1 шагу на графике)\n",
    "\n",
    "<br></br>\n",
    "<center><strong><i>z<span style = \"font-weight: bold; font-size:7pt\">i</span> = (x<span style=\"font-weight: bold; font-size: 7pt\">i</span> - <span style = \"text-decoration: overline\">x</span>) / sd<span style=\"font-weight: bold; font-size: 7pt\">x</span></i></strong></center>\n",
    "\n",
    "[Online-калькулятор для вычисления \"z\"](http://davidmlane.com/hyperstat/z_table.html)<br></br>\n",
    "[Online-калькулятор для вычисления z, t, F и пр.](https://gallery.shinyapps.io/dist_calc/)\n",
    "\n",
    "<br></br>\n",
    "<ins>Вычисление \"z\" в Python:</ins><br></br>\n",
    "![z_below](pictures/z_below.jpg)\n",
    "\"<strong>scipy.stats.norm.cdf()</strong>\" - накопительная функция нормального распределения по известному \"z\". Т.е. сколько % от выборки расположены до/меньше заданной величины."
   ]
  },
  {
   "cell_type": "code",
   "execution_count": 12,
   "metadata": {},
   "outputs": [
    {
     "name": "stdout",
     "output_type": "stream",
     "text": [
      "На промежутке [-∞ ; 0,8σ] расположено 78.81% значений\n"
     ]
    }
   ],
   "source": [
    "#from scipy import stats \n",
    "print(f'На промежутке [-∞ ; 0,8σ] расположено {stats.norm.cdf(0.8):.2%} значений')"
   ]
  },
  {
   "cell_type": "markdown",
   "metadata": {},
   "source": [
    "<br></br>\n",
    "![z_above](pictures/z_above.jpg)\n",
    "\"<strong>scipy.stats.norm.sf()</strong>\" - сколько % от выборки расположены после/больше заданной величины."
   ]
  },
  {
   "cell_type": "code",
   "execution_count": 13,
   "metadata": {},
   "outputs": [
    {
     "name": "stdout",
     "output_type": "stream",
     "text": [
      "На промежутке [0,8σ ; +∞] расположено 21.19% значений\n"
     ]
    }
   ],
   "source": [
    "#from scipy import stats \n",
    "print(f'На промежутке [0,8σ ; +∞] расположено {(stats.norm.sf(0.8)):.2%} значений')"
   ]
  },
  {
   "cell_type": "markdown",
   "metadata": {},
   "source": [
    "<br></br>\n",
    "![z_between](pictures/z_between.jpg)\n",
    "\"<strong>st.norm.cdf(z<span style= \"font-weight: bold; font-size:7pt\">2</span>) - st.norm.cdf(z<span style= \"font-weight: bold; font-size:7pt\">1</span>)</strong>\" - сколько % от выборки расположены внтри заданного промежутка."
   ]
  },
  {
   "cell_type": "code",
   "execution_count": 14,
   "metadata": {},
   "outputs": [
    {
     "name": "stdout",
     "output_type": "stream",
     "text": [
      "На промежутке [-2σ ; 0,8σ] расположено 76.54% значений\n"
     ]
    }
   ],
   "source": [
    "#from scipy import stats \n",
    "print(f'На промежутке [-2σ ; 0,8σ] расположено {(stats.norm.cdf(0.8) - stats.norm.cdf(-2)):.2%} значений')"
   ]
  },
  {
   "cell_type": "markdown",
   "metadata": {},
   "source": [
    "<br></br>\n",
    "![z_outside](pictures/z_outside.jpg)\n",
    "\"<strong>st.norm.cdf(z<span style= \"font-weight: bold; font-size:7pt\">1</span>) + st.norm.sf(z<span style= \"font-weight: bold; font-size:7pt\">2</span>)</strong>\" - сколько % от выборки расположены за пределами заданного промежутка."
   ]
  },
  {
   "cell_type": "code",
   "execution_count": 15,
   "metadata": {},
   "outputs": [
    {
     "name": "stdout",
     "output_type": "stream",
     "text": [
      "На промежутке [-∞ ; -2σ]U[0,8σ ; +∞] расположено 23.46% значений\n"
     ]
    }
   ],
   "source": [
    "#from scipy import stats \n",
    "print(f'На промежутке [-∞ ; -2σ]U[0,8σ ; +∞] расположено {(stats.norm.sf(0.8) + stats.norm.cdf(-2)):.2%} значений')"
   ]
  },
  {
   "cell_type": "markdown",
   "metadata": {},
   "source": [
    "<br></br>\n",
    "\"<strong>st.norm.ppf()</strong>\" - вычисление значения \"z\" по известному значению накопительной функции распределения. Обратное значение от \"st.norm.cdf()\""
   ]
  },
  {
   "cell_type": "code",
   "execution_count": 16,
   "metadata": {},
   "outputs": [
    {
     "name": "stdout",
     "output_type": "stream",
     "text": [
      "st.norm.ppf(st.norm.cdf(0.8)) = 0.8\n",
      "st.norm.ppf(st.norm.cdf(-2)) = -2.0\n"
     ]
    }
   ],
   "source": [
    "#from scipy import stats \n",
    "print(f'st.norm.ppf(st.norm.cdf(0.8)) = {stats.norm.ppf(stats.norm.cdf(0.8)):.1f}')\n",
    "print(f'st.norm.ppf(st.norm.cdf(-2)) = {stats.norm.ppf(stats.norm.cdf(-2)):.1f}')"
   ]
  },
  {
   "cell_type": "markdown",
   "metadata": {},
   "source": [
    "<br></br>\n",
    "\n",
    "<span style=\"color: orange; font-weight: bold; font-size:12pt\">Центральная предельная теорема.</span> При многократном повторении эксперимента выборочные средние симметричным образов распределяться вокруг среднего значения генеральной совокупности, а стандартное отклонение такого распределения выборочных средних – стандартная ошибка среднего: \n",
    "\n",
    "<br></br>\n",
    "<center><strong><i>se<span style= \"font-weight: bold; font-size:7pt\">x</span> = σ / √n</strong> = sd<span style= \"font-weight: bold; font-size:7pt\">x</span> / √n</i>, при <i>n > 30 </i></center>\n",
    "\n",
    "<br></br>\n",
    "\n",
    "<span style=\"color: orange; font-weight: bold; font-size:12pt\">Доверительный интервал для среднего</span>\n",
    "\n",
    "\\[μ - 1,96σ ; μ + 1,96σ\\] – <strong>95%</strong> всех выборочных средних включили бы в данный интервал среднее генеральной совокупности μ\n",
    "\n",
    "\\[μ - 2,58σ ; μ + 2,58σ\\] – <strong>99%</strong> доверительный интервал"
   ]
  },
  {
   "cell_type": "code",
   "execution_count": 17,
   "metadata": {},
   "outputs": [
    {
     "name": "stdout",
     "output_type": "stream",
     "text": [
      "Доверительный интервал для среднего: [6.216 ; 7.784]\n"
     ]
    }
   ],
   "source": [
    "'''\n",
    "М_mean(μ) - среднее в генеральной совокупности\n",
    "sd - стандартное отклонение в выборке\n",
    "n - количество выборочных значений\n",
    "accuracy - точность интервала (может быть равен 95 или 99)\n",
    "'''\n",
    "\n",
    "#python:\n",
    "def conf_interval_norm(М_mean, sd, n, accuracy):\n",
    "    se = sd/(n**(1/2))\n",
    "    if accuracy == 95:\n",
    "        di_1 = М_mean - se*1.96\n",
    "        di_2 = М_mean + se*1.96\n",
    "        print(f'Доверительный интервал для среднего: [{di_1} ; {di_2}]')\n",
    "    elif accuracy == 99:\n",
    "        di_1 = М_mean - se*2.58\n",
    "        di_2 = М_mean + se*2.58\n",
    "        print(f'Доверительный интервал для среднего: [{di_1} ; {di_2}]')\n",
    "              \n",
    "conf_interval_norm(7, 4, 100, 95)"
   ]
  },
  {
   "cell_type": "markdown",
   "metadata": {},
   "source": [
    "<ins>Почему именно 1,96 из таблицы:</ins>\n",
    "\n",
    "![doveritelnyi_interval](pictures/doveritelnyi_interval.jpg)\n",
    "\n",
    "<br></br>\n",
    "\n",
    "<ins>Расчитаем константу 1,96 с помощью функции в Python:</ins>"
   ]
  },
  {
   "cell_type": "code",
   "execution_count": 18,
   "metadata": {},
   "outputs": [
    {
     "name": "stdout",
     "output_type": "stream",
     "text": [
      "-1.9599639845400545\n",
      "1.959963984540054\n"
     ]
    }
   ],
   "source": [
    "#from scipy import stats \n",
    "print(stats.norm.ppf(0.025))\n",
    "print(stats.norm.ppf(0.975))"
   ]
  },
  {
   "cell_type": "markdown",
   "metadata": {},
   "source": [
    "<br></br><center><span style =\"color: violet; font-weight: bold; font-size:14pt\">Идея статистического вывода</span></center>\n",
    "\n",
    "<span style =\"color: orange; font-weight: bold; font-size:12pt\">Нулевая гипотеза</span> (<i>H<span style = \"font-weight: bold; font-size: 7pt\">0</span></i>) – отсутствие значимых различий между средним значением выборки и средним значением генеральной совокупности.\n",
    "\n",
    "<span style =\"color: orange; font-weight: bold; font-size:12pt\">Альтернативная гипотеза</span> (<i>H<span style = \"font-weight: bold; font-size: 7pt\">1</span></i>) – значимое отклонение между средним значением выборки и средним значением генеральной совокупности.\n",
    "\n",
    "<strong>Ошибка 1 рода</strong> – приняли альтернативную гипотезу, хотя верна нулевая.\n",
    "\n",
    "<strong>Ошибка 2 рода</strong> – приняли нулевую гипотезу, хотя верна альтернативная.\n",
    "\n",
    "<br></br>\n",
    "<span style =\"color: orange; font-weight: bold; font-size:12pt\"><i>p</i>-уровень значимости </span> – вероятность получения такого или еще более сильного отклонения от среднего значения, если верна <i>H<span style = \"font-weight: bold; font-size: 7pt\">0</span></i>. Чем меньше <i>p</i>, тем больше оснований отклонить нулевую гипотезу.\n",
    "\n",
    "[Статья \"Что такое p-value?\"](http://datascientist.one/p-value/)\n",
    "\n",
    "<br></br>\n",
    "<ins>Чтобы вычислить <i>p</i>-уровень значимости для нормального распределения:</ins><br></br>\n",
    "<strong>1.</strong> найти на сколько стандартных отклонений (величину \"z\") среднее из новой экспериментальной выборки отличается от предполагаемого среднего значения в генеральной совокупности: \n",
    "\n",
    "<br></br>\n",
    "<center><strong>z = (<span style = \"text-decoration: overline\">x</span> - μ) / se</strong></center>\n",
    "\n",
    "<br></br>\n",
    "<strong>2.</strong> определить, какой процент значений находится на промежутке [-∞ ; -z]U[z ; +∞]\n",
    "\n",
    "<strong>3.</strong> если полученное значение <i>p</i> < 0.05, принимаем <i>H<span style = \"font-weight: bold; font-size: 7pt\">1</span></i>, т.е. мы получили статистически значимое отклонение.\n",
    "\n",
    "<br></br>\n",
    "<ins>Вычислим <i>p</i>-уровень значимости для нормального распределения в Python:</ins>"
   ]
  },
  {
   "cell_type": "code",
   "execution_count": 19,
   "metadata": {},
   "outputs": [
    {
     "name": "stdout",
     "output_type": "stream",
     "text": [
      "p = 0.00137\n"
     ]
    }
   ],
   "source": [
    "'''\n",
    "x_mean - новое среднее\n",
    "M_mean(μ) - среднее в генеральной совокупности\n",
    "sd - стандартное отклонение в выборке\n",
    "n - количество выборочных значений\n",
    "'''\n",
    "\n",
    "#python:\n",
    "#from scipy import stats \n",
    "def calc_pvalue_norm(M_mean, x_mean, sd, n):\n",
    "    se = sd/(n**(1/2))\n",
    "    z = abs((x_mean-M_mean)/se)\n",
    "    p = (1 - stats.norm.cdf(z))*2\n",
    "    return p\n",
    "\n",
    "print('p = {:.5f}'.format(calc_pvalue_norm(102, 98, 10, 64)))"
   ]
  },
  {
   "cell_type": "markdown",
   "metadata": {},
   "source": [
    "<br></br><br></br>\n",
    "<center><span style=\"color:gray; font-weight: bold; font-size:18pt\">Сравнение средних</span></center>\n",
    "\n",
    "<br></br>\n",
    "<center><span style =\"color: violet; font-weight: bold; font-size:14pt\">Распределение Стьюдента</span></center>\n",
    "\n",
    "Если <span style=\"color:gray\">число наблюдений невелико (<i>n < 30</i>) и</span> стандартное отклонение генеральной совокупности σ неизвестно, то используется распределение Стьюдента (t-distribution): унимодально, симметрично, но наблюдения с большей вероятностью попадают за пределы <i>±2σ</i> от <i>μ</i>, чем при нормальном распределении.\n",
    "\n",
    "Форма распределения определяется числом степеней свободы (<i><strong>df = n-1</strong></i>, degrees of freedom). С увелечением <i>df</i> распределение стремится к нормальному.\n",
    "    \n",
    "<br></br>\n",
    "<ins>Вычислим <i>p</i>-уровень значимости для распределения Стьюдента в Python:</ins>"
   ]
  },
  {
   "cell_type": "code",
   "execution_count": 20,
   "metadata": {},
   "outputs": [
    {
     "name": "stdout",
     "output_type": "stream",
     "text": [
      "p = 0.05694\n",
      "Доверительный интервал для среднего: [84.61143720745503 ; 95.18856279254499]\n"
     ]
    }
   ],
   "source": [
    "'''\n",
    "x_mean - новое среднее\n",
    "M_mean(μ) - среднее в генеральной совокупности\n",
    "sd - стандартное отклонение в выборке\n",
    "n - количество выборочных значений\n",
    "\n",
    "accuracy - точность интервала (может быть равен 95 или 99)\n",
    "'''\n",
    "\n",
    "#python:\n",
    "#from scipy import stats \n",
    "def calc_pvalue_t(M_mean, x_mean, sd, n):\n",
    "    se = sd/(n**(1/2))\n",
    "    t = abs((x_mean-M_mean)/se)\n",
    "    df = n-1\n",
    "    p = (1 - stats.t.cdf(t, df))*2\n",
    "    return p\n",
    "\n",
    "print('p = {:.5f}'.format(calc_pvalue_t(10, 10.8, 2, 25)))\n",
    "\n",
    "# Доверительный интервал у соответствующего t - распределения:\n",
    "def conf_interval_t(М_mean, sd, n, accuracy):\n",
    "    se = sd/(n**(1/2))\n",
    "    df = n-1\n",
    "    if accuracy == 95:\n",
    "        di_1 = М_mean - se*stats.t.ppf(0.975, df)\n",
    "        di_2 = М_mean + se*stats.t.ppf(0.975, df)\n",
    "        print(f'Доверительный интервал для среднего: [{di_1} ; {di_2}]')\n",
    "    elif accuracy == 99:\n",
    "        di_1 = М_mean - se*stats.t.ppf(0.995, df)\n",
    "        di_2 = М_mean + se*stats.t.ppf(0.995, df)\n",
    "        print(f'Доверительный интервал для среднего: [{di_1} ; {di_2}]')\n",
    "              \n",
    "conf_interval_t(89.9, 11.3, 20, 95)"
   ]
  },
  {
   "cell_type": "markdown",
   "metadata": {},
   "source": [
    "\n",
    "[Как кодировать t-тест студента с нуля в Python](https://www.machinelearningmastery.ru/how-to-code-the-students-t-test-from-scratch-in-python/)\n",
    "\n",
    "<br></br>\n",
    "<span style =\"color: orange; font-weight: bold; font-size:12pt\">t -критерий Стьюдента</span>, сравнение двух средних в двух выборках\n",
    "\n",
    "<br></br>\n",
    "<center><i><strong>H<span style = \"font-size: 7pt\">0</span> :</strong> M<span style = \"font-weight: bold; font-size: 7pt\">1</span> = M<span style = \"font-weight: bold; font-size: 7pt\">2</span> ; <strong>H<span style = \"font-size: 7pt\">1</span> :</strong> M<span style = \"font-weight: bold; font-size: 7pt\">1</span> ≠ M<span style = \"font-weight: bold; font-size: 7pt\">2</span></i></center>\n",
    "\n",
    "<br></br>\n",
    "<center><strong><i>df = n<span style = \"font-weight: bold; font-size: 7pt\">1</span> + n<span style = \"font-weight: bold; font-size: 7pt\">2</span> - 2</i></strong></center>\n",
    "\n",
    "<br></br>\n",
    "<center><strong><i>se = √<span style = \"text-decoration: overline\"> </span>(sd<span style = \"font-weight: bold; font-size: 7pt\">1</span>² / n<span style = \"font-weight: bold; font-size: 7pt\">1</span> + sd<span style = \"font-weight: bold; font-size: 7pt\">2</span>² / n<span style = \"font-weight: bold; font-size: 7pt\">2</span>)</i></strong></center>\n",
    "\n",
    "<br></br>\n",
    "<center><strong><i>t = (<span style = \"text-decoration: overline\">X</span><span style = \"font-weight: bold; font-size: 7pt\">1</span> - <span style = \"text-decoration: overline\">X</span><span style = \"font-weight: bold; font-size: 7pt\">2</span>) / se</i></strong></center>\n",
    " \n",
    "<br></br>\n",
    "<ins>Вычислим <i>p</i>-уровень значимости для сравнения двух средних в двух выборках в Python:</ins>"
   ]
  },
  {
   "cell_type": "code",
   "execution_count": 21,
   "metadata": {},
   "outputs": [
    {
     "name": "stdout",
     "output_type": "stream",
     "text": [
      "p = 0.01569\n"
     ]
    }
   ],
   "source": [
    "'''\n",
    "x1_mean - среднее в 1ой выборке\n",
    "x2_mean - среднее во 2ой выборке\n",
    "sd1 - стандартное отклонение в 1ой выборке\n",
    "sd2 - стандартное отклонение в 2ой выборке\n",
    "n1 - количество наблюдений в 1ой выборке\n",
    "n2 - количество наблюдений во 2ой выборке\n",
    "'''\n",
    "\n",
    "#python:\n",
    "#from scipy import stats \n",
    "def calc_pvalue_t2(x1_mean, x2_mean, sd1, sd2, n1, n2):\n",
    "    se = math.sqrt(sd1**2/n1 + sd2**2/n2)\n",
    "    t = abs((x1_mean-x2_mean)/se)\n",
    "    #print(t)\n",
    "    df = n1+n2-2\n",
    "    p = (1 - stats.t.cdf(t, df))*2\n",
    "    return p\n",
    "\n",
    "print('p = {:.5f}'.format(calc_pvalue_t2(89.9, 80.7, 11.3, 11.7, 20, 20))) "
   ]
  },
  {
   "cell_type": "markdown",
   "metadata": {},
   "source": [
    "<span style =\"color: green; font-weight: bold; font-size:12pt\">Применимость критерия Стьюдента:</span>\n",
    "\n",
    "1. <strong>Независимость каждого из наблюдений</strong><br></br> \n",
    "2. <strong>Гомогенность дисперсий</strong>, т.е. дисперсии в двух выборках приблизительно одинаковы.<br></br> \n",
    "<ins>Проверка:</ins> критерий Левана или критерий Фишера<br></br>\n",
    "3. <strong>Нормальность распределения при <i>n < 30 </i></strong>\n",
    "    \n",
    "![treb_U](pictures/treb_U.jpg)\n",
    "    \n",
    "<br></br>\n",
    "<span style =\"color: green; font-weight: bold; font-size:12pt\">Проверка на нормальность:</span>\n",
    "\n",
    " + Построить [график-гистаграмму](https://stepik.org/lesson/8082/step/3?unit=1361) или [график qq-plot](https://stepik.org/lesson/8082/step/4?unit=1361)\\*(если наблюдений мало)\n",
    " + Тест Колмагорова-Смирнова и тест Шапиро-Уилка: если получаем <i>p</i>-уровень значимости больше 0.05, значит наша выборка значимо не отличается от нормальной.\n",
    "<br/>\n",
    "\n",
    "![normalnost'](pictures/normalnost'.jpg)\n",
    "<br/>\n",
    "\n",
    "![shapiro-wilk](pictures/shapiro-wilk.jpg)\n",
    "\n",
    "<strong>Если распределение отличается от нормального используется Критерий Манна-Уитни</strong>. Он переводит все данные в ранговую шкалу. Такой критерий гораздо менее чувствителен к отклонениям от нормальности и может быть использован при наличии значительных выбросов в выборке.\n",
    "\n",
    "<ins>Построение графиков для теста Шапиро-Уилка с рандомными значениями в Python:</ins>"
   ]
  },
  {
   "cell_type": "code",
   "execution_count": 22,
   "metadata": {},
   "outputs": [
    {
     "data": {
      "image/png": "[encoded data removed]",
      "text/plain": [
       "<Figure size 432x288 with 1 Axes>"
      ]
     },
     "metadata": {
      "needs_background": "light"
     },
     "output_type": "display_data"
    }
   ],
   "source": [
    "import numpy as np\n",
    "import scipy.stats as ss\n",
    "import matplotlib.pyplot as plt\n",
    "\n",
    "\n",
    "def get_gaussian_density(dataset):\n",
    "    ''' Гауссово распределение, полученное на основе выборки\n",
    "\n",
    "        :param dataset: массив значений\n",
    "    '''\n",
    "\n",
    "    density = ss.gaussian_kde(dataset)\n",
    "    density.covariance_factor = lambda : 0.25\n",
    "    density._compute_covariance()\n",
    "\n",
    "    min_x, max_x = np.percentile(dataset, [0, 100])\n",
    "\n",
    "    return np.linspace(min_x, max_x, 200), density\n",
    "\n",
    "\n",
    "mu, sigma = 0, 1 # Среднее и стандартное отклонение\n",
    "rnd = np.random.normal(mu, sigma, 10000)  # Выборка случайно распределенной величины\n",
    "\n",
    "\n",
    "# Случайно выбираем по 3 пробы, сортируем их\n",
    "random_samples = (\n",
    "  sorted(np.random.choice(rnd, 3))\n",
    "  for i in range(10000)\n",
    ")\n",
    "\n",
    "# Zip функция - без комментариев (функциональное программирование, есть на Вики)\n",
    "# на выходе получаем массивы минимальных, средних и максимальных значений\n",
    "rnd1, rnd2, rnd3 = zip(*random_samples)\n",
    "\n",
    "\n",
    "# Гистограмма частот распределения случайной величины (опционально)\n",
    "counts_1, x_range_1, ignored = plt.hist(rnd1, 30, density=True, histtype='barstacked')\n",
    "counts_2, x_range_2, ignored = plt.hist(rnd2, 30, density=True, histtype='barstacked')\n",
    "counts_3, x_range_3, ignored = plt.hist(rnd3, 30, density=True, histtype='barstacked')\n",
    "\n",
    "\n",
    "# Гауссова оценка плотности ядра (приближение к гладкой функции)\n",
    "x1, linear_1 = get_gaussian_density(rnd1)\n",
    "x2, linear_2 = get_gaussian_density(rnd2)\n",
    "x3, linear_3 = get_gaussian_density(rnd3)\n",
    "\n",
    "\n",
    "plt.plot(x1, linear_1(x1))\n",
    "plt.plot(x2, linear_2(x2))\n",
    "plt.plot(x3, linear_3(x3))\n",
    "\n",
    "\n",
    "plt.show()"
   ]
  },
  {
   "cell_type": "markdown",
   "metadata": {},
   "source": [
    "<br></br><br></br>\n",
    "<center><span style=\"color: violet; font-weight: bold; font-size:14pt\">Однофакторный дисперсионный анализ</span></center>\n",
    "\n",
    "ANOVA (ANalysis Of VAriance) позволяет сранивать средние значения в трех и более группах.\n",
    "\n",
    "<br></br>\n",
    "<center><i><strong>H<span style = \"font-size: 7pt\">0</span> :</strong> M<span style = \"font-weight: bold; font-size: 7pt\">1</span> = M<span style = \"font-weight: bold; font-size: 7pt\">2</span> = ... = M<span style = \"font-weight: bold; font-size: 7pt\">i</span> ; <strong>H<span style = \"font-size: 7pt\">1</span> :</strong> !(M<span style = \"font-weight: bold; font-size: 7pt\">1</span> = M<span style = \"font-weight: bold; font-size: 7pt\">2</span> = ... = M<span style = \"font-weight: bold; font-size: 7pt\">i</span>)</i></center>\n",
    "\n",
    "<br></br>\n",
    "Изменчивость имеющихся данных (<i>SS<span style = \"font-weight: bold; font-size: 7pt\">total</span></i>) может быть обусловлена изменчивостью внутри групп (<i>SS<span style = \"font-weight: bold; font-size: 7pt\">wg</span></i>) и изменчивостью между группами (<i>SS<span style = \"font-weight: bold; font-size: 7pt\">bg</span></i>):\n",
    "+ Если большая часть общей изменчивости (<i>SS<span style = \"font-weight: bold; font-size: 7pt\">total</span></i>) обеспечивается благодаря изменчивости между группами (<i>SS<span style = \"font-weight: bold; font-size: 7pt\">bg</span></i>), это означает, что группы различаются между собой.\n",
    "+ Если большая часть общей изменчивости (<i>SS<span style = \"font-weight: bold; font-size: 7pt\">total</span></i>) обеспечивается благодаря внутригрупповой изменчивости (<i>SS<span style = \"font-weight: bold; font-size: 7pt\">wg</span></i>), то это говорит о том, что группы не различаются.\n",
    "+ Если межгрупповой показатель изменчивости (<i>SS<span style = \"font-weight: bold; font-size: 7pt\">bg</span></i>) значительно превышает внтуригрупповой (<i>SS<span style = \"font-weight: bold; font-size: 7pt\">wg</span></i>), то весьма вероятно что как минимум два средних значения отличаются друг от друга. \n",
    "\n",
    "<br></br>\n",
    "<center><i><strong>SS<span style = \"font-weight: bold; font-size: 7pt\">total</span> = ∑(x<span style = \"font-weight: bold; font-size: 7pt\">ij</span> - M)²</strong> = SS<span style = \"font-weight: bold; font-size: 7pt\">bg</span> + SS<span style = \"font-weight: bold; font-size: 7pt\">wg</span></i></center>\n",
    "\n",
    "<br></br>\n",
    "<strong><center><i>SS<span style = \"font-weight: bold; font-size: 7pt\">bg</span> = ∑(M<span style = \"font-weight: bold; font-size: 7pt\">j</span> - M)²</i></center></strong>\n",
    "\n",
    "<br></br>\n",
    "<strong><center><i>SS<span style = \"font-weight: bold; font-size: 7pt\">wg</span> = ∑(x<span style = \"font-weight: bold; font-size: 7pt\">ij</span> - M<span style = \"font-weight: bold; font-size: 7pt\">j</span>)²</i></center></strong>\n",
    "\n",
    "<br></br>\n",
    "Усредненное значение межгрупповой суммы квадратов называется межгрупповым средним квадратом (межгрупповая дисперсия):\n",
    "\n",
    "<br></br>\n",
    "<strong><center><i>MS<span style = \"font-weight: bold; font-size: 7pt\">bg</span> = SS<span style = \"font-weight: bold; font-size: 7pt\">bg</span> / df<span style = \"font-weight: bold; font-size: 7pt\">bg</span> ; df<span style = \"font-weight: bold; font-size: 7pt\">bg</span> = m - 1</i></center></strong>\n",
    "\n",
    "<br></br>\n",
    "Внутригрупповой средний квадрат (внтуригрупповая дисперсия):\n",
    "\n",
    "<br></br>\n",
    "<strong><center><i>MS<span style = \"font-weight: bold; font-size: 7pt\">wg</span> = SS<span style = \"font-weight: bold; font-size: 7pt\">wg</span> / df<span style = \"font-weight: bold; font-size: 7pt\">wg</span> ; df<span style = \"font-weight: bold; font-size: 7pt\">wg</span> = N - m</i></center></strong>\n",
    "\n",
    "<br></br>\n",
    "<span style=\"color: orange; font-weight: bold; font-size:12pt\">F-критерий Фишера:</span>\n",
    "\n",
    "<br></br>\n",
    "<center><i><strong>F = ( SS<span style = \"font-weight: bold; font-size: 7pt\">bg</span> / (m - 1) ) / ( SS<span style = \"font-weight: bold; font-size: 7pt\">wg</span> / (N - m) )</strong> = MS<span style = \"font-weight: bold; font-size: 7pt\">bg</span> / MS<span style = \"font-weight: bold; font-size: 7pt\">wg</span></i></center>\n",
    "\n",
    "<br></br>\n",
    "<ins>Пример:</ins>\n",
    "\n",
    "![anova_fisher](pictures/anova_fisher.png)\n",
    "\n",
    "<br></br>\n",
    "<ins>Расчет p-value для F-распределения:</ins>\n",
    "\n",
    "[Distribution Calculator](https://gallery.shinyapps.io/dist_calc/)\n",
    "\n",
    "![f_distribution](pictures/f_distribution.png)\n",
    "    \n",
    "<br></br>\n",
    "<ins>Вычислим <i>p</i>-уровень значимости для распределения Фишера в Python:</ins>"
   ]
  },
  {
   "cell_type": "code",
   "execution_count": 23,
   "metadata": {},
   "outputs": [
    {
     "name": "stdout",
     "output_type": "stream",
     "text": [
      "p = 0.00800\n"
     ]
    }
   ],
   "source": [
    "data_exmpl = [\n",
    "    [3,1,2],\n",
    "    [5,3,4],\n",
    "    [7,6,5]\n",
    "]\n",
    "\n",
    "#python:\n",
    "#from scipy import stats \n",
    "\n",
    "def calc_pvalue_f(array):\n",
    "    \n",
    "    SS_w = 0\n",
    "    X_sum = 0\n",
    "    N = 0\n",
    "    for group in array:\n",
    "        X_sum += sum(group)\n",
    "        N += len(group)\n",
    "        for i in group:\n",
    "            SS_w += (i - sum(group)/len(group))**2\n",
    "        \n",
    "    X_mean = X_sum / N\n",
    "    \n",
    "    SS_bg = 0\n",
    "    for group in array:\n",
    "        SS_bg += len(group)*(sum(group)/len(group) - X_mean)**2\n",
    "    \n",
    "    m = len(array)\n",
    "    F = ( SS_bg / (m-1) ) / ( SS_w / (N-m) ) \n",
    "    p = stats.f.sf(F, (m-1), (N-m))\n",
    "    \n",
    "    return p\n",
    "\n",
    "\n",
    "print('p = {:.5f}'.format(calc_pvalue_f(data_exmpl)))"
   ]
  },
  {
   "cell_type": "markdown",
   "metadata": {},
   "source": [
    "<br></br>\n",
    "<span style=\"color: green; font-weight: bold; font-size:12pt\">Однофакторный дисперсионный анализ в Python</span>\n",
    "\n",
    "[Four Ways to Conduct One-Way ANOVA with Python](https://www.marsja.se/four-ways-to-conduct-one-way-anovas-using-python/)\n",
    "\n",
    "<ins>Расчёт F-критерия и p-значения, построение графика box-plot с использованием Pandas:</ins>"
   ]
  },
  {
   "cell_type": "code",
   "execution_count": 24,
   "metadata": {},
   "outputs": [
    {
     "name": "stdout",
     "output_type": "stream",
     "text": [
      "F = 8.03730248114399, p = 0.00015249722895229536\n"
     ]
    },
    {
     "data": {
      "text/plain": [
       "expr    AxesSubplot(0.1,0.15;0.8x0.75)\n",
       "dtype: object"
      ]
     },
     "execution_count": 24,
     "metadata": {},
     "output_type": "execute_result"
    },
    {
     "data": {
      "image/png": "[encoded data removed]",
      "text/plain": [
       "<Figure size 720x432 with 1 Axes>"
      ]
     },
     "metadata": {
      "needs_background": "light"
     },
     "output_type": "display_data"
    }
   ],
   "source": [
    "#import pandas as pd\n",
    "#from scipy import stats\n",
    "\n",
    "data_stepik = pd.read_csv('https://stepik.org/media/attachments/lesson/8083/genetherapy.csv')\n",
    "\n",
    "A_therapy = data_stepik[data_stepik[\"Therapy\"] == \"A\"][\"expr\"]\n",
    "B_therapy = data_stepik[data_stepik[\"Therapy\"] == \"B\"][\"expr\"]\n",
    "C_therapy = data_stepik[data_stepik[\"Therapy\"] == \"C\"][\"expr\"]\n",
    "D_therapy = data_stepik[data_stepik[\"Therapy\"] == \"D\"][\"expr\"]\n",
    "\n",
    "terapy_abcd = [A_therapy, B_therapy, C_therapy, D_therapy]\n",
    "\n",
    "F, p = stats.f_oneway(A_therapy, B_therapy, C_therapy, D_therapy)\n",
    "# Другой вариант записи:\n",
    "# F, p = stats.f_oneway(*terapy_abcd)\n",
    "# * - звёздочка означает, что мы передаём содержимое списка как набор аргументов (иначе был бы один аргумент - список)\n",
    "\n",
    "print(f'F = {F}, p = {p}')\n",
    "\n",
    "\n",
    "# Группируем по Therapy и рисуем boxplot для каждой группы\n",
    "data_stepik[['Therapy', 'expr']].boxplot(by='Therapy', return_type='axes', figsize=(10, 6))\n",
    "\n",
    "# [['Therapy', 'expr']] - указываем столбцы, по которым строим график. В данном конкретном случае можно удалить и ничего не изменится, т.к. столбцов в data всего два - 'Therapy' и 'expr'\n",
    "\n",
    "# подробности синтаксиса \".boxplot()\" - https://pandas.pydata.org/pandas-docs/stable/reference/api/pandas.plotting.boxplot.html"
   ]
  },
  {
   "cell_type": "markdown",
   "metadata": {},
   "source": [
    "<br></br><ins>Построение графика с использованием matplotlib:</ins>"
   ]
  },
  {
   "cell_type": "code",
   "execution_count": 25,
   "metadata": {},
   "outputs": [
    {
     "data": {
      "image/png": "[encoded data removed]",
      "text/plain": [
       "<Figure size 432x288 with 1 Axes>"
      ]
     },
     "metadata": {
      "needs_background": "light"
     },
     "output_type": "display_data"
    }
   ],
   "source": [
    "#import pandas as pd\n",
    "'''\n",
    "data_stepik = pd.read_csv('https://stepik.org/media/attachments/lesson/8083/genetherapy.csv')\n",
    "\n",
    "A_therapy = data_stepik[data_stepik[\"Therapy\"] == \"A\"][\"expr\"]\n",
    "B_therapy = data_stepik[data_stepik[\"Therapy\"] == \"B\"][\"expr\"]\n",
    "C_therapy = data_stepik[data_stepik[\"Therapy\"] == \"C\"][\"expr\"]\n",
    "D_therapy = data_stepik[data_stepik[\"Therapy\"] == \"D\"][\"expr\"]\n",
    "\n",
    "terapy_abcd = [A_therapy, B_therapy, C_therapy, D_therapy]\n",
    "'''\n",
    "\n",
    "#import math\n",
    "import matplotlib.pyplot as plt\n",
    "\n",
    "names = ['Терапия A', 'Терапия B', 'Терапия C', 'Терапия D']\n",
    "\n",
    "list_mean = [i.mean() for i in terapy_abcd]\n",
    "\n",
    "list_se = [statistics.stdev(i)/math.sqrt(len(terapy_abcd)) for i in terapy_abcd]\n",
    "\n",
    "plt.errorbar(x=names, y=list_mean, yerr=list_se, color=\"black\", capsize=3, marker=\"s\", markersize=6, mfc=\"red\", mec=\"black\", fmt = 'o')\n",
    "# Первые 3 параметра (x, y, yerr) - обязательные. Остальные можно удалить, они лишь стилизация графика\n",
    "# capsize - длина чёрточек на краях отрезков\n",
    "# marker - форма средних значений (красных квадратов)\n",
    "# markersize - размер средних значений (красных квадратов)\n",
    "# fmt = 'o' - убрать линии соединения между точками средних значений\n",
    "# др. подробности синтаксиса \".errorbar()\" - https://matplotlib.org/api/_as_gen/matplotlib.pyplot.errorbar.html\n",
    "\n",
    "plt.title('Уровень экспрессии гена при различной терапии')\n",
    "plt.grid() # - отображает размерную сетку на графике\n",
    "plt.xlabel('Вид терапии')\n",
    "plt.ylabel('Уровень экспресии')\n",
    "plt.show()"
   ]
  },
  {
   "cell_type": "markdown",
   "metadata": {},
   "source": [
    "<br></br><br></br>\n",
    "<center><span style=\"color: violet; font-weight: bold; font-size:14pt\">Множественное попарное сравнение в ANOVA</span></center>\n",
    "\n",
    "Применяя однофакторный дисперсионный анализ, мы можем проверить нулевую гипотезу о том, что все сравниваемые группы происходят из одной генеральной совокупности, и следовательно их средние значения не различаются, т.е. \n",
    "<i>H<span style = \"font-weight: bold; font-size: 7pt\">0</span> : M<span style = \"font-weight: bold; font-size: 7pt\">1</span> = M<span style = \"font-weight: bold; font-size: 7pt\">2</span> = ... = M<span style = \"font-weight: bold; font-size: 7pt\">i</span></i>. Если нулевую гипотезу не удается отвергнуть при заданном уровне значимости (например, <i>α = 0.05</i>), в дальнейшем анализе, в принципе, нет необходимости. Но если нулевая гипотеза отвергается, мы делаем заключение о том, что средние значения сравниваемых групп значительно различаются (другими словами, изучаемый фактор оказывает существенное влияние на интересующую нас переменную). Это единственный вывод, который можно сделать при помощи дисперсионного анализа как такового. Однако какие именно группы отличаются друг от друга? Чтобы узнать это, необходимо выполнить попарные сравнения средних значений имеющихся групп. Критерий Стьюдента \"в чистом виде\" для таких сравнений неприменим в силу возникновения эффекта множественных сравнений. Поэтому при множественном попарном сравнении используются поправки.\n",
    "\n",
    "<br></br>\n",
    "<span style=\"color: orange; font-weight: bold; font-size:12pt\">Поправка Бонферрони</span> (Bonferroni correction)\n",
    "\n",
    "Если вероятность ошибки первого рода (получить значимые различия там, где их нет) возрастает пропорционально количеству групп, которые мы сравниваем между собой, то допустимый показатель <i>p</i>-уровня значимости (т.е. значение <i>p</i>, ниже которого различия считаются достоверными, обычно <i>α = 0.05</i>) нужно скорректировать на количество всех возможных комбинаций пар из имеющихся групп <i>С²<span style = \"font-size: 5pt\">m</span> = m! / (2! * (m-2)!) = m * (m-1) / 2</i><br></br> \n",
    "Т.е. новый допустимый показатель <i>p</i>-уровня значимости:\n",
    "\n",
    "<center><i><strong>α = p / С²<span style = \"font-size: 5pt\">m</span></strong></i></center><br></br>\n",
    "\n",
    "[Multi-comparison with Tukey’s test and the Holm-Bonferroni method](https://pythonhealthcare.org/2018/04/13/55-statistics-multi-comparison-with-tukeys-test-and-the-holm-bonferroni-method/)"
   ]
  },
  {
   "cell_type": "code",
   "execution_count": 26,
   "metadata": {},
   "outputs": [
    {
     "name": "stdout",
     "output_type": "stream",
     "text": [
      "Test Multiple Comparison ttest_rel \n",
      "FWER=0.05 method=Holm\n",
      "alphacSidak=0.01, alphacBonf=0.008\n",
      "============================================\n",
      "group1 group2  stat   pval  pval_corr reject\n",
      "--------------------------------------------\n",
      "     A      B 0.5815 0.5701    0.5701  False\n",
      "     A      C 3.0759 0.0082    0.0329   True\n",
      "     A      D 4.7318 0.0003    0.0019   True\n",
      "     B      C 2.2164 0.0437    0.1312  False\n",
      "     B      D 3.4596 0.0038    0.0192   True\n",
      "     C      D 1.2058 0.2479    0.4958  False\n",
      "--------------------------------------------\n"
     ]
    }
   ],
   "source": [
    "from statsmodels.stats.multicomp import (pairwise_tukeyhsd, MultiComparison)\n",
    "\n",
    "'''\n",
    "data_stepik = pd.read_csv('https://stepik.org/media/attachments/lesson/8083/genetherapy.csv')\n",
    "'''\n",
    "\n",
    "MultiComp = MultiComparison(data_stepik['expr'], data_stepik['Therapy'])\n",
    "comp = MultiComp.allpairtest(stats.ttest_rel, method='Holm')\n",
    "\n",
    "print (comp[0])"
   ]
  },
  {
   "cell_type": "markdown",
   "metadata": {},
   "source": [
    "При наличии большого числа сравниваемых групп метод Бонферрони становится очень консервативным, часто не позволяя отвергнуть даже те гипотезы, которые со всей очевидностью должны быть отвергнуты. Для решения описанной проблемы (т.е. для выполнения большого числа попарных сравнений групповых средних без потери статистической мощности) используется <span style=\"color: orange; font-weight: bold; font-size:12pt\">q-критерий Тьюки</span> (Tukey HSD), который представляет собой модифицированный критерий Стьюдента: <i>q = (<span style = \"text-decoration: overline\">X</span><span style = \"font-weight: bold; font-size: 7pt\">A</span> - <span style = \"text-decoration: overline\">X</span><span style = \"font-weight: bold; font-size: 7pt\">B</span>) / SE</i>\n",
    "\n",
    "Когда все сравниваемые группы содержат одинаковое число наблюдений <i>m</i>: <i>SE = √<span style = \"text-decoration: overline\"> </span> (MS<span style = \"font-weight: bold; font-size: 7pt\">wg</span> / m)</i>\n",
    "\n",
    "Когда сравниваемые группы содержат различное число число наблюдений <i>m</i>: <i>SE = √<span style = \"text-decoration: overline\"> </span> ( (MS<span style = \"font-weight: bold; font-size: 7pt\">wg</span> / 2) * (1 / m<span style = \"font-weight: bold; font-size: 6pt\">A</span> + 1 / m<span style = \"font-weight: bold; font-size: 6pt\">B</span>) )</i>\n",
    "\n",
    "Благодаря тому обстоятельству, что в приведенных выше формулы стандартной ошибки входит внутригрупповая дисперсия MS<span style = \"font-weight: bold; font-size: 7pt\">wg</span>, обеспечивается контроль над групповой вероятностью ошибки первого рода. Именно это делает критерий Тьюки подходящим критерием для выполнения большого числа попарных сравнений групповых средних."
   ]
  },
  {
   "cell_type": "code",
   "execution_count": 27,
   "metadata": {},
   "outputs": [
    {
     "name": "stdout",
     "output_type": "stream",
     "text": [
      " Multiple Comparison of Means - Tukey HSD, FWER=0.05 \n",
      "=====================================================\n",
      "group1 group2 meandiff p-adj   lower    upper  reject\n",
      "-----------------------------------------------------\n",
      "     A      B  -0.9333    0.9  -5.5961  3.7294  False\n",
      "     A      C  -5.3333 0.0189  -9.9961 -0.6706   True\n",
      "     A      D     -7.4  0.001 -12.0628 -2.7372   True\n",
      "     B      C     -4.4 0.0712  -9.0628  0.2628  False\n",
      "     B      D  -6.4667 0.0029 -11.1294 -1.8039   True\n",
      "     C      D  -2.0667 0.6296  -6.7294  2.5961  False\n",
      "-----------------------------------------------------\n"
     ]
    }
   ],
   "source": [
    "#from statsmodels.stats.multicomp import (pairwise_tukeyhsd, MultiComparison)\n",
    "'''\n",
    "data_stepik = pd.read_csv('https://stepik.org/media/attachments/lesson/8083/genetherapy.csv')\n",
    "MultiComp = MultiComparison(data_stepik['expr'], data_stepik['Therapy'])\n",
    "'''\n",
    "\n",
    "print(MultiComp.tukeyhsd().summary())"
   ]
  },
  {
   "cell_type": "markdown",
   "metadata": {},
   "source": [
    "Рассчитываются доверительные интервалы разности между средними значениями групп (<i><span style = \"text-decoration: overline\">X</span><span style = \"font-weight: bold; font-size: 7pt\">A</span> - <span style = \"text-decoration: overline\">X</span><span style = \"font-weight: bold; font-size: 7pt\">B</span></i>). Если такой интервал не включает в себя ноль, то можно отклонить нулевую гипотезу <i>H<span style = \"font-weight: bold; font-size: 7pt\">0</span></i> о равенстве двух средних.\n",
    "\n",
    "Критерий Тьюки имеет те же <span style=\"color: green; font-weight: bold; font-size:12pt\">условия применимости</span>, что и дисперсионный анализ:\n",
    "1. <strong>нормальность распределения данных</strong>\n",
    "2. (особенно важно!) <strong>однородность групповых дисперсий</strong> (подробнее см. [здесь](https://r-analytics.blogspot.com/2013/05/blog-post.html)). Для проверки используем тест Левина (если <i>p < 0,05</i>, то проверка пройдена)\n",
    "\n",
    "Устойчивость к отклонению от этих условий, равно как и статистическая мощность критерия Тьюки, возрастают при одинаковом числе наблюдений во всех сравниваемых группах"
   ]
  },
  {
   "cell_type": "markdown",
   "metadata": {},
   "source": [
    "<br></br><br></br>\n",
    "<center><span style=\"color: violet; font-weight: bold; font-size:14pt\">Двухфакторный дисперсионный анализ</span></center>\n",
    "\n",
    "<br></br>\n",
    "Формула общей изменчивости:\n",
    "\n",
    "<br></br>\n",
    "<center><strong><i>SST = SSW + SSB<span style = \"font-weight: bold; font-size: 7pt\">A</span> + SSB<span style = \"font-weight: bold; font-size: 7pt\">B</span> + SSB<span style = \"font-weight: bold; font-size: 7pt\">A</span> * SSB<span style = \"font-weight: bold; font-size: 7pt\">B</span></i></strong></center>\n",
    "\n",
    "<br></br>\n",
    "[Three ways to do a two-way ANOVA with Python](http://www.marsja.se/three-ways-to-carry-out-2-way-anova-with-python/)"
   ]
  },
  {
   "cell_type": "code",
   "execution_count": 28,
   "metadata": {},
   "outputs": [
    {
     "name": "stdout",
     "output_type": "stream",
     "text": [
      "               Sum sq  df     Mean Sq          F      Pr(>F)\n",
      "age        197.452754   1  197.452754    7.44984  0.00831345\n",
      "dose        16.912241   1   16.912241   0.638094    0.427552\n",
      "age:dose     0.927077   1    0.927077  0.0349784    0.852272\n",
      "Residual  1590.257424  60   26.504290        NaN         NaN\n"
     ]
    },
    {
     "data": {
      "image/png": "[encoded data removed]",
      "text/plain": [
       "<Figure size 432x288 with 1 Axes>"
      ]
     },
     "metadata": {
      "needs_background": "light"
     },
     "output_type": "display_data"
    }
   ],
   "source": [
    "#import pandas as pd\n",
    "#from scipy import stats\n",
    "\n",
    "data_stepik2 = pd.read_csv('https://stepik.org/media/attachments/lesson/9250/atherosclerosis.csv')\n",
    "\n",
    "#График:\n",
    "from statsmodels.graphics.factorplots import interaction_plot\n",
    "fig = interaction_plot(data_stepik2.dose, data_stepik2.age, data_stepik2.expr,colors=['green','orange'], markers=['s','s'], ms=10)\n",
    "\n",
    "#Степени свободы\n",
    "N =  len(data_stepik2.expr)\n",
    "m_age = len(data_stepik2.age.unique())\n",
    "m_dose = len(data_stepik2.dose.unique())\n",
    "\n",
    "df_age = m_age - 1\n",
    "df_dose = m_dose - 1\n",
    "df_age_x_dose = df_age*df_dose \n",
    "df_w = N - m_age*m_dose\n",
    "\n",
    "#Общее среднее\n",
    "grand_mean = data_stepik2['expr'].mean()\n",
    "\n",
    "#Суммы квадратов\n",
    "SS_total = sum((data_stepik2.expr - grand_mean)**2)\n",
    "SSB_age = sum([(data_stepik2[data_stepik2.age == i].expr.mean() - grand_mean)**2 for i in data_stepik2.age])\n",
    "SSB_dose = sum([(data_stepik2[data_stepik2.dose == i].expr.mean() - grand_mean)**2 for i in data_stepik2.dose])\n",
    "\n",
    "data_split_age = [data_stepik2[data_stepik2.age == i] for i in data_stepik2.age.unique()]\n",
    "data_split_means = [[x_age[x_age.dose == d].expr.mean() for d in x_age.dose] for x_age in data_split_age]\n",
    "SS_w = sum([sum((data_split_age[i].expr-data_split_means[i])**2) for i in range(len(data_stepik2.age.unique()))])\n",
    "\n",
    "SSB_age_x_dose = SS_total - SSB_age - SSB_dose - SS_w\n",
    "\n",
    "#Средние квадраты\n",
    "MS_age = SSB_age / df_age\n",
    "MS_dose = SSB_dose / df_dose\n",
    "MS_age_x_dose = SSB_age_x_dose / df_age_x_dose\n",
    "MS_w = SS_w / df_w\n",
    "\n",
    "#F-значения\n",
    "F_age = MS_age / MS_w\n",
    "F_dose = MS_dose / MS_w\n",
    "F_age_x_dose = MS_age_x_dose / MS_w\n",
    "\n",
    "#p-значения\n",
    "p_age = stats.f.sf(F_age, df_age, df_w)\n",
    "p_dose = stats.f.sf(F_dose, df_dose, df_w)\n",
    "p_age_x_dose = stats.f.sf(F_age_x_dose, df_age_x_dose, df_w)\n",
    "\n",
    "#Собираем результаты в таблицу:\n",
    "results = {'Sum sq' : [SSB_age, SSB_dose, SSB_age_x_dose, SS_w], \n",
    "           'df' : [df_age, df_dose, df_age_x_dose, df_w], \n",
    "           'Mean Sq': [MS_age, MS_dose, MS_age_x_dose, MS_w],\n",
    "           'F':[F_age, F_dose, F_age_x_dose, 'NaN'], \n",
    "           'Pr(>F)' : [p_age, p_dose, p_age_x_dose, 'NaN']}\n",
    "\n",
    "columns = ['Sum sq', 'df', 'Mean Sq', 'F', 'Pr(>F)']\n",
    "\n",
    "aov_table1 = pd.DataFrame(results, columns=columns, index=['age', 'dose', 'age:dose', 'Residual'])\n",
    "\n",
    "print(aov_table1)"
   ]
  },
  {
   "cell_type": "code",
   "execution_count": 29,
   "metadata": {},
   "outputs": [
    {
     "name": "stdout",
     "output_type": "stream",
     "text": [
      "                     sum_sq    df         F    PR(>F)\n",
      "C(age)           197.452754   1.0  7.449841  0.008313\n",
      "C(dose)           16.912241   1.0  0.638094  0.427552\n",
      "C(age):C(dose)     0.927077   1.0  0.034978  0.852272\n",
      "Residual        1590.257424  60.0       NaN       NaN\n"
     ]
    },
    {
     "data": {
      "image/png": "[encoded data removed]",
      "text/plain": [
       "<Figure size 432x288 with 1 Axes>"
      ]
     },
     "metadata": {
      "needs_background": "light"
     },
     "output_type": "display_data"
    }
   ],
   "source": [
    "#import pandas as pd\n",
    "import statsmodels.api as sm\n",
    "from statsmodels.formula.api import ols\n",
    "from statsmodels.stats.anova import anova_lm\n",
    "\n",
    "'''\n",
    "data_stepik2 = pd.read_csv('https://stepik.org/media/attachments/lesson/9250/atherosclerosis.csv')\n",
    "\n",
    "'''\n",
    "formula = 'expr~C(age)+C(dose)+C(age):C(dose)'\n",
    "model = ols(formula, data_stepik2).fit()\n",
    "aov_table2 = anova_lm(model, typ=2)\n",
    "\n",
    "print(aov_table2)\n",
    "\n",
    "\n",
    "#График:\n",
    "#import matplotlib.pyplot as plt\n",
    "res = model.resid \n",
    "fig = sm.qqplot(res, line='s')\n",
    "plt.show()"
   ]
  },
  {
   "cell_type": "markdown",
   "metadata": {},
   "source": [
    "<br></br><br></br>\n",
    "<center><span style=\"color:gray; font-weight: bold; font-size:18pt\">Корреляция и регрессия</span></center>\n"
   ]
  },
  {
   "cell_type": "markdown",
   "metadata": {},
   "source": [
    "<br></br>\n",
    "<span style=\"color: orange; font-weight: bold; font-size:12pt\">Корреляция</span> – взаимосвязь двух факторов. М.б. положительная/прямая (значение коэф-та корреляции имеет знак '+') и отрицательная/обратная (значение коэф-та корреляции имеет знак '-'). Если значение коэф-та корреляции близко к нулю, то скорее всего, факторы не имеют взаимосвязи.\n",
    "\n",
    "<br></br>\n",
    "<span style=\"color: orange; font-weight: bold; font-size:12pt\">Коэффициент ковариации</span> – мера линейной зависимости двух переменных:\n",
    "\n",
    "<br></br>\n",
    "<center><strong><i>cov<span style = \"font-weight: bold; font-size: 5pt\">XY</span> = ( ∑(x<span style = \"font-weight: bold; font-size: 7pt\">i</span> - <span style = \"text-decoration: overline\">X</span>)*(y<span style = \"font-weight: bold; font-size: 7pt\">i</span> - <span style = \"text-decoration: overline\">Y</span>) ) / (N - 1)</i></strong></center>\n",
    "\n",
    "<br></br>\n",
    "<span style=\"color: orange; font-weight: bold; font-size:12pt\">Коэффициент корреляции (Пирсона)</span> –  показатель силы и направления взаимосвязи двух количественных переменных:\n",
    "\n",
    "<br></br>\n",
    "<center><strong><i>r<span style = \"font-weight: bold; font-size: 7pt\">xy</span> = cov<span style = \"font-weight: bold; font-size: 5pt\">XY</span> / (σ<span style = \"font-weight: bold; font-size: 7pt\">x</span> * σ<span style = \"font-weight: bold; font-size: 7pt\">y</span>)</i></strong> ∈ [-1 ; 1]</center>\n",
    "\n",
    "<br></br>\n",
    "<span style=\"color: orange; font-weight: bold; font-size:12pt\">Коэффициент детерменации</span> –  показывает в какой степени дисперсия одной переменной обусловлена 'влиянием' другой переменной:\n",
    "\n",
    "<br></br>\n",
    "<center><strong><i>R² = (r<span style = \"font-weight: bold; font-size: 7pt\">xy</span>)²</i></strong> ∈ [0 ; 1]</center>\n",
    "\n",
    "<br></br>\n",
    "<span style=\"color: green; font-weight: bold; font-size:12pt\">Проверка статистических гипотез:</span>\n",
    "\n",
    "<br></br>\n",
    "<center><i><strong>H<span style = \"font-size: 7pt\">0</span> :</strong> r<span style = \"font-weight: bold; font-size: 7pt\">xy</span> = 0 ; <strong>H<span style = \"font-size: 7pt\">1</span> :</strong> r<span style = \"font-weight: bold; font-size: 7pt\">xy</span> ≠ 0</i></center>\n",
    "\n",
    "Для это найдём <i>t</i>-значение при числе степеней свобод <strong><i>df = N - 2</i></strong> (2 - т.к. мы работаем с двумя переменными <i>x</i> и <i>y</i>)\n",
    "\n",
    "Прежде чем сделать вывод, важно помнить:\n",
    "\n",
    "+ Положительная или отрицательная корреляция не говорит о причинно-следственной зависимости между переменными.\n",
    "+ Корреляция между двумя переменными может обуславливаться существованием третьей переменной, влияющей на обе эти переменные.\n",
    "\n",
    "<br></br>\n",
    "<ins>Вычислим коэффициент корреляции в Python:</ins>"
   ]
  },
  {
   "cell_type": "code",
   "execution_count": 30,
   "metadata": {},
   "outputs": [
    {
     "name": "stdout",
     "output_type": "stream",
     "text": [
      "Коэффициент корреляции = -1.0\n"
     ]
    },
    {
     "data": {
      "image/png": "[encoded data removed]",
      "text/plain": [
       "<Figure size 432x288 with 1 Axes>"
      ]
     },
     "metadata": {
      "needs_background": "light"
     },
     "output_type": "display_data"
    }
   ],
   "source": [
    "#from scipy.stats import stats\n",
    "\n",
    "array_x = [4, 5, 2, 3, 1]\n",
    "array_y = [2, 1, 4, 3, 5]\n",
    "\n",
    "r_xy = stats.pearsonr(array_x, array_y)[0]\n",
    "\n",
    "print(f'Коэффициент корреляции = {r_xy}')\n",
    "# pearsonr принимает два одномерных массива одинаковой длинны и возвращает кортеж из двух значений:\n",
    "#  - коэффициент корреляции Пирсона\n",
    "#  - p-уровень значимости\n",
    "\n",
    "\n",
    "#График:\n",
    "#import matplotlib.pyplot as plt\n",
    "plt.scatter(array_x, array_y)\n",
    "plt.grid() # - отображает размерную сетку на графике"
   ]
  },
  {
   "cell_type": "markdown",
   "metadata": {},
   "source": [
    "<br></br>\n",
    "<span style=\"color: green; font-weight: bold; font-size:12pt\">Условия применимости коэффициента корреляции:</span>\n",
    "1. Коэффициент корреляции применим если <strong>взаимосвязь линейна и монотонна</strong>\n",
    "2. <strong>Нормальное распределение переменных</strong> (значительные выбросы могут негативно сказаться на значении коэффициента корреляции)\n",
    "\n",
    "<br></br>\n",
    "Если имеются значительные выбросы, можно попробовать использовать <span style=\"color: green; font-weight: bold; font-size:12pt\">непараметрические аналоги коэффициента корреляции</span>, которые переходят от реальных значений переменных к ранжированным значениям.\n",
    "+ Коффициент корреляции Спирмана \n",
    "+ Коффициент корреляции Кендалла\n",
    "\n",
    "![spirmen](pictures/spirmen.jpg)"
   ]
  },
  {
   "cell_type": "markdown",
   "metadata": {},
   "source": [
    "<br></br><br></br>\n",
    "<center><span style=\"color: violet; font-weight: bold; font-size:14pt\">Одномерный регрессионный анализ</span></center>\n",
    "\n",
    "<br></br>\n",
    "Одномерный регрессионный анализ (простая линейная регрессия) применяется для исследования взаимосвязи двух количественных переменных (независимая переменная –  предиктор и зависимая переменная –  критериальная). Изучает как одна переменная определяет/позволяет предсказать другую переменную.\n",
    "\n",
    "<br></br>\n",
    "<span style=\"color: orange; font-weight: bold; font-size:12pt\">Линия регрессии</span> (линия тренда) задается уравнением:\n",
    "\n",
    "<br></br>\n",
    "<center><strong><i>y = b<span style = \"font-weight: bold; font-size: 7pt\">0</span> + b<span style = \"font-weight: bold; font-size: 7pt\">1</span> * x</i></strong> ,</center>\n",
    "\n",
    "где <i>b<span style = \"font-weight: bold; font-size: 7pt\">0</span></i> – свободный член (intercept), который отвечает за значение <i>y</i>, где линия пересечет ось <i>OY</i> ; b<span style = \"font-weight: bold; font-size: 7pt\">1</span> – угловой коэффицент (slope), задаёт угол наклона между осью <i>OX</i> и графиком.\n",
    "\n",
    "<br></br>\n",
    "<span style=\"color: orange; font-weight: bold; font-size:12pt\">Метод наименьших квадратов</span> – метод нахождения оптимальных параметров линейной регресии, таких, что сумма квадратов ошибок (остатков) была минимальна. \n",
    "<strong>Остаток</strong> - расстояние от реального значения до предсказаннного значения, лежащего на прямой.\n",
    "\n",
    "\n",
    "Необходимо подобрать <i>b<span style = \"font-weight: bold; font-size: 7pt\">0</span></i> и <i>b<span style = \"font-weight: bold; font-size: 7pt\">1</span></i> так, чтобы линия максимально адекватно отображала связь данных переменных.\n",
    "\n",
    "![mnk](pictures/mnk.png)\n",
    "\n",
    "<br></br>\n",
    "<center><strong><i>b<span style = \"font-weight: bold; font-size: 7pt\">1</span> = (sd<span style = \"font-weight: bold; font-size: 7pt\">y</span> / sd<span style = \"font-weight: bold; font-size: 7pt\">x</span>) * r<span style = \"font-weight: bold; font-size: 7pt\">xy</span></i></strong></center>\n",
    "\n",
    "<br></br>\n",
    "<center><strong><i>b<span style = \"font-weight: bold; font-size: 7pt\">0</span> = <span style = \"text-decoration: overline\">Y</span> - b<span style = \"font-weight: bold; font-size: 7pt\">1</span> * <span style = \"text-decoration: overline\">X</span></i></strong></center>\n",
    "\n",
    "<br></br>\n",
    "Гипотеза о значимости взаимосвязи: \n",
    "\n",
    "<center><i><strong>H<span style = \"font-size: 7pt\">0</span> : </strong>b<span style = \"font-weight: bold; font-size: 7pt\">1</span> = 0 (т.к. r<span style = \"font-weight: bold; font-size: 7pt\">xy</span> = 0) ; <strong>H<span style = \"font-size: 7pt\">1</span> : </strong>b<span style = \"font-weight: bold; font-size: 7pt\">1</span> ≠ 0</i></center>\n",
    "\n",
    "<br></br>\n",
    "Для это найдём <i><strong>t = b<span style = \"font-weight: bold; font-size: 7pt\">1</span> / se</strong></i> при числе степеней свобод <strong><i>df = N - 2</i></strong>\n",
    "\n",
    "<br></br>\n",
    "<span style=\"color: orange; font-weight: bold; font-size:12pt\">Коэффициент детерминации</span> – доля дисперсии зависимой переменной <i>Y</i>, объясняемая регресионной моделью.\n",
    "\n",
    "<br></br>\n",
    "<center><strong><i>R² = 1 - (SS<span style = \"font-weight: bold; font-size: 7pt\">res</span> / SS<span style = \"font-weight: bold; font-size: 7pt\">total</span>)</i></strong> ,</center>\n",
    "\n",
    "где <i>SS<span style = \"font-weight: bold; font-size: 7pt\">res</span></i>–  (residuals) сумма квадратов остатков (расстояний до регрессионой прямой), а <i>SS<span style = \"font-weight: bold; font-size: 7pt\">total</span></i> –  общая изменчивость (сумма квадратов расстояний до прямой <i>y = b<span style = \"font-weight: bold; font-size: 7pt\">0</span> = <span style = \"text-decoration: overline\">Y</span></i>).\n",
    "Таким образом,  означает, что почти вся изменчивость переменной объясняется нашей регрессионной моделью.\n",
    "\n",
    "![deteR2](pictures/deteR2.png)\n",
    "\n",
    "<br></br>\n",
    "<span style=\"color: green; font-weight: bold; font-size:12pt\">Условия применимости линейной регрессии:</span>\n",
    "\n",
    "<strong>1. Линейная взаимосвязь <i>X</i> и <i>Y</i></strong>. Если зависимость на самом деле нелинейна, то предсказание будет ошибочно. \n",
    "\n",
    "<ins>Проверка:</ins> Построить Scatter plot (диаграмма рассеяния)\n",
    "\n",
    "![lineynost](pictures/lineynost.png)\n",
    "\n",
    "<span style=\"color: gray\">\n",
    "Пути ликвидации нелинейности:\n",
    " + Трансформация Тьюки (Tukey Ladder of Powers) – возведение <i>X</i> в степень, теряется интерпретируемость.\n",
    " + Логарифмическая трансформация (Log transformation) – взятие логарифма от <i>X</i> и/или <i>Y</i>, интерпретируемость коэффициента наклона <i>b<span style = \"font-weight: bold; font-size: 7pt\">1</span></i>:\n",
    "    1. <i>(log Y = b<span style = \"font-weight: bold; font-size: 7pt\">0</span> * log X)</i> – на сколько процентов увеличится значение зависимой переменной при изменении зависимой переменной на 1%.\n",
    "    2. <i>(log Y = b<span style = \"font-weight: bold; font-size: 7pt\">0</span> + b<span style = \"font-weight: bold; font-size: 7pt\">1</span> * X)</i> – при единичном изменении переменной <i>X</i>, переменная <i>Y</i> в среднем изменяется на <i>100 * b<span style = \"font-weight: bold; font-size: 7pt\">1</span></i> процентов.\n",
    "    3. <i>(Y = b<span style = \"font-weight: bold; font-size: 7pt\">0</span> + b<span style = \"font-weight: bold; font-size: 7pt\">1</span> * X)</i>  – изменение на <i>1%</i> по <i>X</i> в среднем приводит к <i>0.01 * b<span style = \"font-weight: bold; font-size: 7pt\">1</span></i> изменению по переменной <i>Y</i>.\n",
    " + Трансформация Бокса-Кокса (Box-Cox transformation) – обычно используется для трансформации зависимой переменной в случае, если у нас есть ненормальное распределение ошибок и/или нелинейность взаимосвязи, а также в случае гетероскедастичности.\n",
    "\n",
    "<br></br>\n",
    "<strong>2. Независимость наблюдений.</strong>\n",
    "\n",
    "Источники:\n",
    " + Повторные измерения (на разных уровнях независимой переменной): снижение чувствительности теста, искуственное увелечение мощности теста (псевдореплекация).\n",
    " + Повторные пробы (на одном и том же уровне независимой переменной): искажение результатов.\n",
    " + Кластерезация данных (нет повторных измерений, но данные взяты из нескольких гомогенных групп): искажение результатов.\n",
    "\n",
    "<br></br>\n",
    "<strong>3. Независимость предикторов.</strong> Отсутствие мультиколлинеарности – линейной зависимости между предикорами.\n",
    " + Абсолютная мультиколлинеарность – корреляция между двумя предикторами равна ±1.\n",
    " + Если мы хотим только предсказывать значения, то мультиколлинеарность не проблема.\n",
    " + Для выявления можно построить корреляционную матрицу.\n",
    " + VIF (Variance Inflation Factor) – показывает, насколько хорошо предиктор объясняется другими предикторами. Еси VIF > 10, то предиктор лучше исключить из модели. Квадртаный корень из VIF показывает, во сколько раз стала больше стандартная ошибка данного коэффициента, по сравнению с ситуацией, если он был независим от других предикторов.</span>\n",
    " \n",
    "<br></br>\n",
    "<strong>4. Нормальное распределение остатков</strong>.\n",
    "\n",
    "<ins>Проверка:</ins> Построить график распределения остатков: Q-Q plot (график квантиль-квантиль) или Histogramm (гистограмма)\n",
    "\n",
    "![norm_res2](pictures/norm_res2.png)\n",
    "\n",
    "<br></br>\n",
    "<strong>5. Гомоскедастичность</strong> – одинаковая изменчивость зависимой переменной на всех уровнях независимой переменной (постоянная изменчивость остатков). Т.е. ведут ли себя остатки одинаково относительно прямой <i>y = b<span style = \"font-weight: bold; font-size: 7pt\">0</span> + b<span style = \"font-weight: bold; font-size: 7pt\">1</span> * x</i> на протяжении всего регресиионого анализа.\n",
    "\n",
    "<ins>Проверка:</ins> Построить график распределения остатков Scatter plot (диаграмма рассеяния)\n",
    "\n",
    "![norm_res](pictures/norm_res.png)\n",
    "\n",
    "\n",
    "<span style=\"color: gray\">Если мы построим регрессию, где зависимой переменной будет квадрат остатков модели <i>Y~X</i>, а независимой переменной будет предиктор <i>X</i>, и в этой модели окажется высокий и значимый <i>R²</i>, это означает, что в данных есть гетероскедастичность. <br></br>\n",
    "<ins>Проверка:</ins> Тест Бройша — Пагана (Breusch-Pagan test), тест Уайта (White test).</span>\n",
    "\n",
    "<br></br>\n",
    "<span style=\"color: gray\"><strong>6. Отсутствие автокорреляции остатков.</strong></span>\n",
    "\n",
    "<br></br>\n",
    "<ins>Практический пример одномерной регрессии в Python:</ins>"
   ]
  },
  {
   "cell_type": "code",
   "execution_count": 31,
   "metadata": {},
   "outputs": [
    {
     "name": "stdout",
     "output_type": "stream",
     "text": [
      "        state  metro_res  white  hs_grad  poverty  female_house\n",
      "0     Alabama       55.4   71.3     79.9     14.6          14.2\n",
      "1      Alaska       65.6   70.8     90.6      8.3          10.8\n",
      "2     Arizona       88.2   87.7     83.8     13.3          11.1\n",
      "3    Arkansas       52.5   81.0     80.9     18.0          12.1\n",
      "4  California       94.4   77.5     81.1     12.8          12.6\n",
      "\n",
      "\n",
      "          N       Mean    St.Dev   Min   Max\n",
      "poverty  64  11.349020  3.099185   5.6  18.0\n",
      "hs_grad  64  86.011765  3.725998  77.2  92.1\n",
      "\n",
      "\n",
      "Коэффициент корреляции = -0.7468582531582506\n"
     ]
    },
    {
     "data": {
      "image/png": "[encoded data removed]",
      "text/plain": [
       "<Figure size 432x288 with 1 Axes>"
      ]
     },
     "metadata": {
      "needs_background": "light"
     },
     "output_type": "display_data"
    }
   ],
   "source": [
    "#import pandas as pd\n",
    "\n",
    "data_stepik3 = pd.read_csv('https://stepik.org/media/attachments/lesson/8086/states.csv')\n",
    "print(data_stepik3.head())\n",
    "print()\n",
    "print()\n",
    "\n",
    "# Проверим линейность взаимосвязи X и Y графиком Scatter plot:\n",
    "# import matplotlib.pyplot as plt\n",
    "data_stepik3.plot.scatter('hs_grad','poverty')\n",
    "\n",
    "\n",
    "# Вычислим основные показатели для АД:\n",
    "\n",
    "x_array = data_stepik3.hs_grad\n",
    "y_array = data_stepik3.poverty\n",
    "\n",
    "# Средние:\n",
    "x_mean = x_array.mean()\n",
    "y_mean = y_array.mean()\n",
    "\n",
    "# Стандартные отклонения:\n",
    "#import statistics\n",
    "x_stdev = statistics.stdev(x_array)\n",
    "y_stdev = statistics.stdev(y_array)\n",
    "\n",
    "# Минимальные и максимальные значения:\n",
    "x_min = x_array.min()\n",
    "y_min = y_array.min()\n",
    "\n",
    "x_max = x_array.max()\n",
    "y_max = y_array.max()\n",
    "\n",
    "#Собираем результаты в таблицу:\n",
    "result = {'N': [N, N], 'Mean' : [y_mean, x_mean], 'St.Dev':[y_stdev, x_stdev], 'Min' : [y_min, x_min], 'Max' : [y_max, x_max]}\n",
    "columns = ['N', 'Mean', 'St.Dev', 'Min', 'Max']\n",
    "result_table = pd.DataFrame(result, columns=columns, index=['poverty', 'hs_grad'])\n",
    "print(result_table)\n",
    "\n",
    "# Коэффициенты ковариации и корреляции:\n",
    "N = len(data_stepik3)\n",
    "cov_xy = sum([(x_i - x_mean)*(y_i - y_mean) for x_i, y_i in zip(x_array, y_array)]) / (N - 1)\n",
    "r_xy = cov_xy/(x_stdev*y_stdev)\n",
    "'''\n",
    "Другой способ поиска коэф.корреляции:\n",
    "#from scipy import stats\n",
    "r_xy = stats.pearsonr(x_array, y_array)[0]\n",
    "'''\n",
    "print()\n",
    "print()\n",
    "print(f'Коэффициент корреляции = {r_xy}')"
   ]
  },
  {
   "cell_type": "markdown",
   "metadata": {},
   "source": [
    "<ins>Линейная регрессия с библиотекой statsmodels</ins> ([Ссылка: Линейная регресиия в Python различными библиотеками](https://github.com/Bronnikoff/ML/blob/master/3_less/lesson_3.Linear_models.ipynb))"
   ]
  },
  {
   "cell_type": "code",
   "execution_count": 32,
   "metadata": {},
   "outputs": [
    {
     "name": "stdout",
     "output_type": "stream",
     "text": [
      "                            OLS Regression Results                            \n",
      "==============================================================================\n",
      "Dep. Variable:                poverty   R-squared:                       0.558\n",
      "Model:                            OLS   Adj. R-squared:                  0.549\n",
      "Method:                 Least Squares   F-statistic:                     61.81\n",
      "Date:                Tue, 05 May 2020   Prob (F-statistic):           3.11e-10\n",
      "Time:                        14:17:15   Log-Likelihood:                -108.74\n",
      "No. Observations:                  51   AIC:                             221.5\n",
      "Df Residuals:                      49   BIC:                             225.3\n",
      "Df Model:                           1                                         \n",
      "Covariance Type:            nonrobust                                         \n",
      "==============================================================================\n",
      "                 coef    std err          t      P>|t|      [0.025      0.975]\n",
      "------------------------------------------------------------------------------\n",
      "Intercept     64.7810      6.803      9.523      0.000      51.111      78.451\n",
      "hs_grad       -0.6212      0.079     -7.862      0.000      -0.780      -0.462\n",
      "==============================================================================\n",
      "Omnibus:                        3.534   Durbin-Watson:                   1.977\n",
      "Prob(Omnibus):                  0.171   Jarque-Bera (JB):                2.653\n",
      "Skew:                           0.540   Prob(JB):                        0.265\n",
      "Kurtosis:                       3.289   Cond. No.                     2.01e+03\n",
      "==============================================================================\n",
      "\n",
      "Warnings:\n",
      "[1] Standard Errors assume that the covariance matrix of the errors is correctly specified.\n",
      "[2] The condition number is large, 2.01e+03. This might indicate that there are\n",
      "strong multicollinearity or other numerical problems.\n"
     ]
    }
   ],
   "source": [
    "import statsmodels.formula.api as smf\n",
    "\n",
    "# линейная регрессия\n",
    "model = smf.ols('poverty~hs_grad',data=data_stepik3)\n",
    "fitted = model.fit()\n",
    "\n",
    "# коеффиценты\n",
    "fitted.params\n",
    "\n",
    "# выкладка по модели\n",
    "print (fitted.summary())"
   ]
  },
  {
   "cell_type": "markdown",
   "metadata": {},
   "source": [
    "![linear](pictures/linear.jpg)\n",
    "\n",
    "<br/><br/>\n",
    "<ins>График регресионной прямой с использованием matplotlib</ins>"
   ]
  },
  {
   "cell_type": "code",
   "execution_count": 33,
   "metadata": {},
   "outputs": [
    {
     "name": "stdout",
     "output_type": "stream",
     "text": [
      "                y = 64.78 + (-0.62)*x\n"
     ]
    },
    {
     "data": {
      "image/png": "[encoded data removed]",
      "text/plain": [
       "<Figure size 432x288 with 1 Axes>"
      ]
     },
     "metadata": {
      "needs_background": "light"
     },
     "output_type": "display_data"
    }
   ],
   "source": [
    "# Уравнение регрессии:\n",
    "# Коэффициенты линенйной регресии:\n",
    "b1 = y_stdev / x_stdev * r_xy\n",
    "b0 = y_mean - b1 * x_mean\n",
    "\n",
    "\n",
    "print(f'                y = {b0:.2f} + ({b1:.2f})*x')\n",
    "\n",
    "# График регрессионной прямой:\n",
    "#import matplotlib.pyplot as plt\n",
    "x_values = np.linspace(x_min, x_max, 10) # массив из 10 значений от x_min до x_max\n",
    "y_values = b0 + b1 * x_values\n",
    "\n",
    "plt.plot(x_array,y_array,'ob') # Расставляем точки\n",
    "plt.plot(x_values, y_values,'r') # Рисуем линию\n",
    "plt.title(\"Связь бедности и уровня образования\")\n",
    "plt.xlabel(\"Уровень образования %\")\n",
    "plt.ylabel(\"Уровень бедности %\")\n",
    "plt.show()"
   ]
  },
  {
   "cell_type": "markdown",
   "metadata": {},
   "source": [
    "<ins>Вывод:</ins>\n",
    "+ Т.к. <i>p-value < 0.05 </i>, мы отклоняем нулевую гипотезу о том, что нет взаимосвязи между уровнем бедности и уровнем среднего образования.\n",
    "+ В штате, где уровень людей со средним образованием будет равен нулю, будет 64.78%(<i>=b<span style = \"font-weight: bold; font-size: 7pt\">0</span></i>) людей, проживающих за чертой бедности.\n",
    "+ С каждым 1% увеличения людей, имеющих среднее образование, количество людей, проживающих в бедности уменьшается на 0.62% (<i>=b<span style = \"font-weight: bold; font-size: 7pt\">1</span></i>).\n",
    "+ Практически 56% (<i>=R²</i>) изменчивости нашей зависимой переменной объясняется нашей моделью.\n",
    "+ Линия тренда <i>y = 64.78 - 0.62 * x</i> позволяет предсказывать значения <i>y(∧)</i> по интересующей нас <i>x</i>. <i>(Бедность(∧) = 64.78 - 0.62 * Образование)</i>\n",
    "\n",
    "\n",
    "<br></br>\n",
    "<ins>Проверим остатки:</ins>\n",
    "![res_exmpl](pictures/res_exmpl.png)\n",
    "    \n",
    "В целом требования гомоскедастичности и нормальности распределения остатков выполнено (хотя и присутствуют заметные положительные отклонения от нуля)"
   ]
  },
  {
   "cell_type": "markdown",
   "metadata": {},
   "source": [
    "<br></br><br></br>\n",
    "<center><span style=\"color: violet; font-weight: bold; font-size:14pt\">Многофакторный регрессионный анализ</span></center>\n",
    "\n",
    "<br></br>\n",
    "Множественная линейная регрессия позволяет исследовать влияние сразу нескольких независимых переменных на одну зависимую переменную (что в некоторых случаях позволяет вывести, так называемую, формулу счастья): \n",
    "\n",
    "<br></br>\n",
    "<center><strong><i>y = b<span style = \"font-weight: bold; font-size: 7pt\">0</span> + b<span style = \"font-weight: bold; font-size: 7pt\">1</span> * x<span style = \"font-weight: bold; font-size: 7pt\">1</span> + ... + b<span style = \"font-weight: bold; font-size: 7pt\">n</span> * x<span style = \"font-weight: bold; font-size: 7pt\">n</span></i></strong></center>\n",
    "\n",
    "<br></br>\n",
    "При двухфакторной линейной регресии в качестве остатков выступает не расстояние до прямой линии <i>y = b<span style = \"font-weight: bold; font-size: 7pt\">0</span> + b<span style = \"font-weight: bold; font-size: 7pt\">1</span> * x</i>, а расстояние до плоскости (проекции на плоскость) <i>y = b<span style = \"font-weight: bold; font-size: 7pt\">0</span> + b<span style = \"font-weight: bold; font-size: 7pt\">1</span> * x<span style = \"font-weight: bold; font-size: 7pt\">1</span> + b<span style = \"font-weight: bold; font-size: 7pt\">2</span> * x<span style = \"font-weight: bold; font-size: 7pt\">2</span></i>\n",
    "\n",
    "<br></br>\n",
    "<ins>3D-визуализация зависимости бедности от hs_grad и metro_res с добавлением плоскости нашей регрессионной модели (Python):</ins>"
   ]
  },
  {
   "cell_type": "code",
   "execution_count": 34,
   "metadata": {},
   "outputs": [
    {
     "data": {
      "text/plain": [
       "Text(0.5, 0, 'poverty')"
      ]
     },
     "execution_count": 34,
     "metadata": {},
     "output_type": "execute_result"
    },
    {
     "data": {
      "image/png": "[encoded data removed]",
      "text/plain": [
       "<Figure size 432x288 with 1 Axes>"
      ]
     },
     "metadata": {
      "needs_background": "light"
     },
     "output_type": "display_data"
    }
   ],
   "source": [
    "#import statsmodels.formula.api as smf\n",
    "#import pandas as pd\n",
    "from mpl_toolkits.mplot3d import axes3d\n",
    "#import matplotlib.pyplot as plt\n",
    "#import numpy as np\n",
    "\n",
    "# %matplotlib notebook - раскомментировать, чтобы повертеть 3D-график\n",
    "\n",
    "'''\n",
    "data_stepik3 = pd.read_csv('https://stepik.org/media/attachments/lesson/8086/states.csv')\n",
    "'''\n",
    "\n",
    "lm = smf.ols(formula='poverty ~ metro_res + hs_grad', data=data_stepik3).fit()\n",
    "\n",
    "lm.params\n",
    "\n",
    "def f(x, y):\n",
    "    return lm.params.Intercept + lm.params.hs_grad * x  + lm.params.metro_res * y\n",
    "\n",
    "x = data_stepik3.hs_grad.sort_values()\n",
    "y = data_stepik3.metro_res.sort_values()\n",
    "\n",
    "X, Y = np.meshgrid(x, y)\n",
    "Z = f(X, Y)\n",
    "\n",
    "fig = plt.figure()\n",
    "ax = plt.axes(projection='3d')\n",
    "ax.plot_surface(X, Y, Z, alpha=0.3)\n",
    "data_below_serf = data_stepik3[data_stepik3['poverty'] < f(data_stepik3['hs_grad'], data_stepik3['metro_res'])]\n",
    "data_above_serf = data_stepik3[data_stepik3['poverty'] >= f(data_stepik3['hs_grad'], data_stepik3['metro_res'])]\n",
    "ax.scatter(data_below_serf.hs_grad, data_below_serf.metro_res, data_below_serf.poverty, c='r', marker='o')\n",
    "ax.scatter(data_above_serf.hs_grad, data_above_serf.metro_res, data_above_serf.poverty, c='g', marker='o')\n",
    "ax.set_xlabel('hs_grad')\n",
    "ax.set_ylabel('metro_res')\n",
    "ax.set_zlabel('poverty')"
   ]
  },
  {
   "cell_type": "markdown",
   "metadata": {},
   "source": [
    "<br></br>\n",
    "<span style=\"color: orange; font-weight: bold; font-size:12pt\">Исправленный R²</span> (adjusted R-squared) – скорректированный коэффициент детерменации. Рассчитывается при включении в модель дополнительных независимых переменных.\n",
    "\n",
    "<br></br>\n",
    "<ins>Практический пример множественной регрессии в Python:</ins>"
   ]
  },
  {
   "cell_type": "code",
   "execution_count": 35,
   "metadata": {},
   "outputs": [
    {
     "data": {
      "text/html": [
       "<div>\n",
       "<style scoped>\n",
       "    .dataframe tbody tr th:only-of-type {\n",
       "        vertical-align: middle;\n",
       "    }\n",
       "\n",
       "    .dataframe tbody tr th {\n",
       "        vertical-align: top;\n",
       "    }\n",
       "\n",
       "    .dataframe thead th {\n",
       "        text-align: right;\n",
       "    }\n",
       "</style>\n",
       "<table border=\"1\" class=\"dataframe\">\n",
       "  <thead>\n",
       "    <tr style=\"text-align: right;\">\n",
       "      <th></th>\n",
       "      <th>state</th>\n",
       "      <th>metro_res</th>\n",
       "      <th>white</th>\n",
       "      <th>hs_grad</th>\n",
       "      <th>poverty</th>\n",
       "      <th>female_house</th>\n",
       "    </tr>\n",
       "  </thead>\n",
       "  <tbody>\n",
       "    <tr>\n",
       "      <th>0</th>\n",
       "      <td>Alabama</td>\n",
       "      <td>55.4</td>\n",
       "      <td>71.3</td>\n",
       "      <td>79.9</td>\n",
       "      <td>14.6</td>\n",
       "      <td>14.2</td>\n",
       "    </tr>\n",
       "    <tr>\n",
       "      <th>1</th>\n",
       "      <td>Alaska</td>\n",
       "      <td>65.6</td>\n",
       "      <td>70.8</td>\n",
       "      <td>90.6</td>\n",
       "      <td>8.3</td>\n",
       "      <td>10.8</td>\n",
       "    </tr>\n",
       "    <tr>\n",
       "      <th>2</th>\n",
       "      <td>Arizona</td>\n",
       "      <td>88.2</td>\n",
       "      <td>87.7</td>\n",
       "      <td>83.8</td>\n",
       "      <td>13.3</td>\n",
       "      <td>11.1</td>\n",
       "    </tr>\n",
       "    <tr>\n",
       "      <th>3</th>\n",
       "      <td>Arkansas</td>\n",
       "      <td>52.5</td>\n",
       "      <td>81.0</td>\n",
       "      <td>80.9</td>\n",
       "      <td>18.0</td>\n",
       "      <td>12.1</td>\n",
       "    </tr>\n",
       "    <tr>\n",
       "      <th>4</th>\n",
       "      <td>California</td>\n",
       "      <td>94.4</td>\n",
       "      <td>77.5</td>\n",
       "      <td>81.1</td>\n",
       "      <td>12.8</td>\n",
       "      <td>12.6</td>\n",
       "    </tr>\n",
       "  </tbody>\n",
       "</table>\n",
       "</div>"
      ],
      "text/plain": [
       "        state  metro_res  white  hs_grad  poverty  female_house\n",
       "0     Alabama       55.4   71.3     79.9     14.6          14.2\n",
       "1      Alaska       65.6   70.8     90.6      8.3          10.8\n",
       "2     Arizona       88.2   87.7     83.8     13.3          11.1\n",
       "3    Arkansas       52.5   81.0     80.9     18.0          12.1\n",
       "4  California       94.4   77.5     81.1     12.8          12.6"
      ]
     },
     "execution_count": 35,
     "metadata": {},
     "output_type": "execute_result"
    }
   ],
   "source": [
    "data_stepik3.head()"
   ]
  },
  {
   "cell_type": "code",
   "execution_count": 36,
   "metadata": {
    "scrolled": true
   },
   "outputs": [
    {
     "data": {
      "text/html": [
       "<table class=\"simpletable\">\n",
       "<caption>OLS Regression Results</caption>\n",
       "<tr>\n",
       "  <th>Dep. Variable:</th>         <td>poverty</td>     <th>  R-squared:         </th> <td>   0.642</td>\n",
       "</tr>\n",
       "<tr>\n",
       "  <th>Model:</th>                   <td>OLS</td>       <th>  Adj. R-squared:    </th> <td>   0.610</td>\n",
       "</tr>\n",
       "<tr>\n",
       "  <th>Method:</th>             <td>Least Squares</td>  <th>  F-statistic:       </th> <td>   20.58</td>\n",
       "</tr>\n",
       "<tr>\n",
       "  <th>Date:</th>             <td>Tue, 05 May 2020</td> <th>  Prob (F-statistic):</th> <td>8.88e-10</td>\n",
       "</tr>\n",
       "<tr>\n",
       "  <th>Time:</th>                 <td>14:17:16</td>     <th>  Log-Likelihood:    </th> <td> -103.39</td>\n",
       "</tr>\n",
       "<tr>\n",
       "  <th>No. Observations:</th>      <td>    51</td>      <th>  AIC:               </th> <td>   216.8</td>\n",
       "</tr>\n",
       "<tr>\n",
       "  <th>Df Residuals:</th>          <td>    46</td>      <th>  BIC:               </th> <td>   226.4</td>\n",
       "</tr>\n",
       "<tr>\n",
       "  <th>Df Model:</th>              <td>     4</td>      <th>                     </th>     <td> </td>   \n",
       "</tr>\n",
       "<tr>\n",
       "  <th>Covariance Type:</th>      <td>nonrobust</td>    <th>                     </th>     <td> </td>   \n",
       "</tr>\n",
       "</table>\n",
       "<table class=\"simpletable\">\n",
       "<tr>\n",
       "        <td></td>          <th>coef</th>     <th>std err</th>      <th>t</th>      <th>P>|t|</th>  <th>[0.025</th>    <th>0.975]</th>  \n",
       "</tr>\n",
       "<tr>\n",
       "  <th>Intercept</th>    <td>   66.4765</td> <td>   12.590</td> <td>    5.280</td> <td> 0.000</td> <td>   41.134</td> <td>   91.819</td>\n",
       "</tr>\n",
       "<tr>\n",
       "  <th>metro_res</th>    <td>   -0.0563</td> <td>    0.020</td> <td>   -2.881</td> <td> 0.006</td> <td>   -0.096</td> <td>   -0.017</td>\n",
       "</tr>\n",
       "<tr>\n",
       "  <th>white</th>        <td>   -0.0481</td> <td>    0.033</td> <td>   -1.456</td> <td> 0.152</td> <td>   -0.115</td> <td>    0.018</td>\n",
       "</tr>\n",
       "<tr>\n",
       "  <th>hs_grad</th>      <td>   -0.5547</td> <td>    0.105</td> <td>   -5.288</td> <td> 0.000</td> <td>   -0.766</td> <td>   -0.344</td>\n",
       "</tr>\n",
       "<tr>\n",
       "  <th>female_house</th> <td>    0.0505</td> <td>    0.243</td> <td>    0.208</td> <td> 0.836</td> <td>   -0.439</td> <td>    0.540</td>\n",
       "</tr>\n",
       "</table>\n",
       "<table class=\"simpletable\">\n",
       "<tr>\n",
       "  <th>Omnibus:</th>       <td> 3.254</td> <th>  Durbin-Watson:     </th> <td>   1.891</td>\n",
       "</tr>\n",
       "<tr>\n",
       "  <th>Prob(Omnibus):</th> <td> 0.197</td> <th>  Jarque-Bera (JB):  </th> <td>   3.043</td>\n",
       "</tr>\n",
       "<tr>\n",
       "  <th>Skew:</th>          <td> 0.585</td> <th>  Prob(JB):          </th> <td>   0.218</td>\n",
       "</tr>\n",
       "<tr>\n",
       "  <th>Kurtosis:</th>      <td> 2.750</td> <th>  Cond. No.          </th> <td>6.50e+03</td>\n",
       "</tr>\n",
       "</table><br/><br/>Warnings:<br/>[1] Standard Errors assume that the covariance matrix of the errors is correctly specified.<br/>[2] The condition number is large, 6.5e+03. This might indicate that there are<br/>strong multicollinearity or other numerical problems."
      ],
      "text/plain": [
       "<class 'statsmodels.iolib.summary.Summary'>\n",
       "\"\"\"\n",
       "                            OLS Regression Results                            \n",
       "==============================================================================\n",
       "Dep. Variable:                poverty   R-squared:                       0.642\n",
       "Model:                            OLS   Adj. R-squared:                  0.610\n",
       "Method:                 Least Squares   F-statistic:                     20.58\n",
       "Date:                Tue, 05 May 2020   Prob (F-statistic):           8.88e-10\n",
       "Time:                        14:17:16   Log-Likelihood:                -103.39\n",
       "No. Observations:                  51   AIC:                             216.8\n",
       "Df Residuals:                      46   BIC:                             226.4\n",
       "Df Model:                           4                                         \n",
       "Covariance Type:            nonrobust                                         \n",
       "================================================================================\n",
       "                   coef    std err          t      P>|t|      [0.025      0.975]\n",
       "--------------------------------------------------------------------------------\n",
       "Intercept       66.4765     12.590      5.280      0.000      41.134      91.819\n",
       "metro_res       -0.0563      0.020     -2.881      0.006      -0.096      -0.017\n",
       "white           -0.0481      0.033     -1.456      0.152      -0.115       0.018\n",
       "hs_grad         -0.5547      0.105     -5.288      0.000      -0.766      -0.344\n",
       "female_house     0.0505      0.243      0.208      0.836      -0.439       0.540\n",
       "==============================================================================\n",
       "Omnibus:                        3.254   Durbin-Watson:                   1.891\n",
       "Prob(Omnibus):                  0.197   Jarque-Bera (JB):                3.043\n",
       "Skew:                           0.585   Prob(JB):                        0.218\n",
       "Kurtosis:                       2.750   Cond. No.                     6.50e+03\n",
       "==============================================================================\n",
       "\n",
       "Warnings:\n",
       "[1] Standard Errors assume that the covariance matrix of the errors is correctly specified.\n",
       "[2] The condition number is large, 6.5e+03. This might indicate that there are\n",
       "strong multicollinearity or other numerical problems.\n",
       "\"\"\""
      ]
     },
     "execution_count": 36,
     "metadata": {},
     "output_type": "execute_result"
    }
   ],
   "source": [
    "#import statsmodels.formula.api as smf\n",
    "\n",
    "'''\n",
    "data_stepik3 = pd.read_csv('https://stepik.org/media/attachments/lesson/8086/states.csv')\n",
    "'''\n",
    "\n",
    "# create a fitted model with all three features\n",
    "lm = smf.ols(formula='poverty ~ metro_res + white + hs_grad + female_house', data=data_stepik3).fit()\n",
    "\n",
    "# print the coefficients\n",
    "lm.params\n",
    "\n",
    "# print a summary of the fitted model\n",
    "lm.summary()"
   ]
  },
  {
   "cell_type": "code",
   "execution_count": 37,
   "metadata": {},
   "outputs": [
    {
     "data": {
      "text/plain": [
       "<matplotlib.axes._subplots.AxesSubplot at 0x1f25d1be4c8>"
      ]
     },
     "execution_count": 37,
     "metadata": {},
     "output_type": "execute_result"
    },
    {
     "data": {
      "image/png": "[encoded data removed]",
      "text/plain": [
       "<Figure size 1584x576 with 4 Axes>"
      ]
     },
     "metadata": {
      "needs_background": "light"
     },
     "output_type": "display_data"
    }
   ],
   "source": [
    "# Визуализация с помощью графиков:\n",
    "#import matplotlib.pyplot as plt\n",
    "fig, axs = plt.subplots(1, 4, sharey=False)\n",
    "data_stepik3.plot(kind = 'scatter', x = 'poverty', y = 'hs_grad', ax=axs[0], figsize=(22,8))\n",
    "data_stepik3.plot(kind = 'scatter', x = 'poverty', y = 'white', ax=axs[1])\n",
    "data_stepik3.plot(kind = 'scatter', x = 'poverty', y = 'female_house', ax=axs[2])\n",
    "data_stepik3.plot(kind = 'scatter', x = 'poverty', y = 'metro_res', ax=axs[3])"
   ]
  },
  {
   "cell_type": "markdown",
   "metadata": {},
   "source": [
    "<ins>Вывод:</ins>\n",
    "+ Уравнение регрессии: <i>Бедность(poverty) = 66.4765 + (-0.0563)\\*metro_res + (-0.0481)\\*white + (-0.5547)\\*hs_grad + 0.0505\\*female_house</i>\n",
    "+ В штате, где уровень людей со всеми исследуемыми предикторами (независимыми переменными) будет равен нулю, будет 66.4765%(<i>=b<span style = \"font-weight: bold; font-size: 7pt\">0</span></i>) людей, проживающих за чертой бедности. \n",
    "+ Т.к. мы получили <i>p-value &lt; 0.05 </i> только для двух факторов: проживание в столичной области (metro_res) и уровень образования(hs_grad). То делаем вывод, что только эти факторы имеют статистически значимую взаимосвязь с исследуемой зависимой переменной - бедностью населения (poverty)  \n",
    "+ С каждым 1% увеличения людей, имеющих среднее образование, количество людей, проживающих в бедности уменьшается на 0.5547%\n",
    "+ С каждым 1% увеличения людей, проживающих в столичной области, количество людей, проживающих в бедности уменьшается на 0.0563%     \n",
    "+ 61% (<i>=Adj. R-squared</i>) изменчивости нашей зависимой переменной объясняется нашей моделью."
   ]
  },
  {
   "cell_type": "markdown",
   "metadata": {},
   "source": [
    "<br></br>\n",
    "<span style=\"color: green; font-weight: bold; font-size:12pt\">Требования к данным при многофакторной регресии:</span>\n",
    "    \n",
    "<strong>1. Линейная зависимость переменных</strong>\n",
    "\n",
    "<strong>2. Нормальное распределение остатков</strong>\n",
    "\n",
    "<strong>3. Гомоскедаcтичность</strong>\n",
    "\n",
    "<strong>4. Нормальное распределение переменных</strong> (желательно)\n",
    "\n",
    "<strong>5. Проверка на мультиколлинеарность</strong>. \n",
    "\n",
    "Мультиколлинеарность - очень сильная взаимосвязь между какими-то из предикторов (независимых переменных). Если две переменные очень сильно взаимосвязаны, то достаточно только одной из них, чтобы хорошо объяснить зависимую переменную.\n",
    "\n",
    "![multicollinear](pictures/multicollinear.jpg)\n",
    "\n",
    "<ins>Проверка на мультиколлинеарность в Python:</ins>"
   ]
  },
  {
   "cell_type": "code",
   "execution_count": 38,
   "metadata": {
    "scrolled": true
   },
   "outputs": [
    {
     "data": {
      "image/png": "[encoded data removed]",
      "text/plain": [
       "<Figure size 720x720 with 25 Axes>"
      ]
     },
     "metadata": {
      "needs_background": "light"
     },
     "output_type": "display_data"
    }
   ],
   "source": [
    "#import pandas as pd\n",
    "#import matplotlib.pyplot as plt\n",
    "#import numpy as np\n",
    "\n",
    "'''\n",
    "data_stepik3 = pd.read_csv('https://stepik.org/media/attachments/lesson/8086/states.csv')\n",
    "'''\n",
    "\n",
    "axes = pd.plotting.scatter_matrix(data_stepik3, figsize=(10,10), diagonal='kde', grid=True)\n",
    "data_corr = data_stepik3.corr().values\n",
    "for i, j in zip(*plt.np.triu_indices_from(axes, k=1)):\n",
    "    axes[i, j].annotate(\"%.3f\" %data_corr[i,j], (0.8, 0.8), xycoords='axes fraction', ha='center', va='center')\n",
    "plt.show()"
   ]
  },
  {
   "cell_type": "markdown",
   "metadata": {},
   "source": [
    "<br></br>\n",
    "<span style=\"color: green; font-weight: bold; font-size:12pt\">Выбор наилучшей модели</span>\n",
    "\n",
    "Из вышерасположенных графиков мы видим, что переменная female_house сильно коррелирует со всеми переменными, это даёт повод задуматься, а не лучше ли её убрать."
   ]
  },
  {
   "cell_type": "code",
   "execution_count": 39,
   "metadata": {},
   "outputs": [
    {
     "name": "stdout",
     "output_type": "stream",
     "text": [
      "0.61 female_house + hs_grad + metro_res + white\n",
      "0.58 hs_grad + metro_res\n",
      "0.39 female_house + metro_res + white\n",
      "0.6 female_house + hs_grad + metro_res\n",
      "0.62 hs_grad + white + metro_res\n",
      "0.62 hs_grad + metro_res + white\n",
      "0.4 female_house + metro_res\n",
      "0.56 hs_grad + white\n",
      "0.077 white\n",
      "0.17 metro_res + white\n",
      "0.55 female_house + hs_grad\n",
      "0.55 female_house + hs_grad + white\n",
      "0.55 hs_grad\n",
      "0.17 white + metro_res\n",
      "0.39 female_house + white + metro_res\n",
      "0.022 metro_res\n",
      "0.26 female_house\n",
      "0.26 female_house + white\n",
      "\n",
      "Вывод: сочетание \"white + metro_res + hs_grad\" даёт наилучший результат. Т.к. Adj.R-squared наибольшее и = 0.62\n"
     ]
    }
   ],
   "source": [
    "# Найдём такой набор фичей, что R-squared максимальна\n",
    "feats = {'metro_res', 'white', 'hs_grad', 'female_house'}\n",
    "\n",
    "# Рекурсивно переберём все сочетания переменных\n",
    "def brute_force(params: set, formula: str, result: set) -> str:\n",
    "    if not params:\n",
    "        result.add(formula.lstrip('+ '))\n",
    "        return \n",
    "    else:\n",
    "        new_params = params.copy()\n",
    "        for el in params:\n",
    "            new_params.remove(el)\n",
    "\n",
    "            brute_force(new_params, formula + ' + ' + el, result)\n",
    "            brute_force(new_params, formula, result)\n",
    "\n",
    "res = set()          \n",
    "brute_force(feats, '', res)\n",
    "res.remove('')\n",
    "\n",
    "# Теперь посчитаем Adjusted R-Square для каждого сочетания и выведем на экран\n",
    "for formula in res:\n",
    "    lm = smf.ols(formula='poverty ~ ' + formula, data=data_stepik3).fit()\n",
    "    print(f'{lm.rsquared_adj:.2}', formula)\n",
    "    \n",
    "print()\n",
    "print('Вывод: сочетание \"white + metro_res + hs_grad\" даёт наилучший результат. Т.к. Adj.R-squared наибольшее и = 0.62')"
   ]
  },
  {
   "cell_type": "markdown",
   "metadata": {},
   "source": [
    "<br></br>\n",
    "<span style=\"color: green; font-weight: bold; font-size:12pt\">Итоговая модель</span>"
   ]
  },
  {
   "cell_type": "code",
   "execution_count": 40,
   "metadata": {},
   "outputs": [
    {
     "data": {
      "text/html": [
       "<table class=\"simpletable\">\n",
       "<caption>OLS Regression Results</caption>\n",
       "<tr>\n",
       "  <th>Dep. Variable:</th>         <td>poverty</td>     <th>  R-squared:         </th> <td>   0.641</td>\n",
       "</tr>\n",
       "<tr>\n",
       "  <th>Model:</th>                   <td>OLS</td>       <th>  Adj. R-squared:    </th> <td>   0.618</td>\n",
       "</tr>\n",
       "<tr>\n",
       "  <th>Method:</th>             <td>Least Squares</td>  <th>  F-statistic:       </th> <td>   28.00</td>\n",
       "</tr>\n",
       "<tr>\n",
       "  <th>Date:</th>             <td>Tue, 05 May 2020</td> <th>  Prob (F-statistic):</th> <td>1.55e-10</td>\n",
       "</tr>\n",
       "<tr>\n",
       "  <th>Time:</th>                 <td>14:17:19</td>     <th>  Log-Likelihood:    </th> <td> -103.41</td>\n",
       "</tr>\n",
       "<tr>\n",
       "  <th>No. Observations:</th>      <td>    51</td>      <th>  AIC:               </th> <td>   214.8</td>\n",
       "</tr>\n",
       "<tr>\n",
       "  <th>Df Residuals:</th>          <td>    47</td>      <th>  BIC:               </th> <td>   222.5</td>\n",
       "</tr>\n",
       "<tr>\n",
       "  <th>Df Model:</th>              <td>     3</td>      <th>                     </th>     <td> </td>   \n",
       "</tr>\n",
       "<tr>\n",
       "  <th>Covariance Type:</th>      <td>nonrobust</td>    <th>                     </th>     <td> </td>   \n",
       "</tr>\n",
       "</table>\n",
       "<table class=\"simpletable\">\n",
       "<tr>\n",
       "      <td></td>         <th>coef</th>     <th>std err</th>      <th>t</th>      <th>P>|t|</th>  <th>[0.025</th>    <th>0.975]</th>  \n",
       "</tr>\n",
       "<tr>\n",
       "  <th>Intercept</th> <td>   68.7220</td> <td>    6.389</td> <td>   10.756</td> <td> 0.000</td> <td>   55.869</td> <td>   81.575</td>\n",
       "</tr>\n",
       "<tr>\n",
       "  <th>metro_res</th> <td>   -0.0555</td> <td>    0.019</td> <td>   -2.926</td> <td> 0.005</td> <td>   -0.094</td> <td>   -0.017</td>\n",
       "</tr>\n",
       "<tr>\n",
       "  <th>white</th>     <td>   -0.0533</td> <td>    0.021</td> <td>   -2.483</td> <td> 0.017</td> <td>   -0.097</td> <td>   -0.010</td>\n",
       "</tr>\n",
       "<tr>\n",
       "  <th>hs_grad</th>   <td>   -0.5697</td> <td>    0.075</td> <td>   -7.569</td> <td> 0.000</td> <td>   -0.721</td> <td>   -0.418</td>\n",
       "</tr>\n",
       "</table>\n",
       "<table class=\"simpletable\">\n",
       "<tr>\n",
       "  <th>Omnibus:</th>       <td> 3.479</td> <th>  Durbin-Watson:     </th> <td>   1.900</td>\n",
       "</tr>\n",
       "<tr>\n",
       "  <th>Prob(Omnibus):</th> <td> 0.176</td> <th>  Jarque-Bera (JB):  </th> <td>   3.230</td>\n",
       "</tr>\n",
       "<tr>\n",
       "  <th>Skew:</th>          <td> 0.607</td> <th>  Prob(JB):          </th> <td>   0.199</td>\n",
       "</tr>\n",
       "<tr>\n",
       "  <th>Kurtosis:</th>      <td> 2.787</td> <th>  Cond. No.          </th> <td>3.32e+03</td>\n",
       "</tr>\n",
       "</table><br/><br/>Warnings:<br/>[1] Standard Errors assume that the covariance matrix of the errors is correctly specified.<br/>[2] The condition number is large, 3.32e+03. This might indicate that there are<br/>strong multicollinearity or other numerical problems."
      ],
      "text/plain": [
       "<class 'statsmodels.iolib.summary.Summary'>\n",
       "\"\"\"\n",
       "                            OLS Regression Results                            \n",
       "==============================================================================\n",
       "Dep. Variable:                poverty   R-squared:                       0.641\n",
       "Model:                            OLS   Adj. R-squared:                  0.618\n",
       "Method:                 Least Squares   F-statistic:                     28.00\n",
       "Date:                Tue, 05 May 2020   Prob (F-statistic):           1.55e-10\n",
       "Time:                        14:17:19   Log-Likelihood:                -103.41\n",
       "No. Observations:                  51   AIC:                             214.8\n",
       "Df Residuals:                      47   BIC:                             222.5\n",
       "Df Model:                           3                                         \n",
       "Covariance Type:            nonrobust                                         \n",
       "==============================================================================\n",
       "                 coef    std err          t      P>|t|      [0.025      0.975]\n",
       "------------------------------------------------------------------------------\n",
       "Intercept     68.7220      6.389     10.756      0.000      55.869      81.575\n",
       "metro_res     -0.0555      0.019     -2.926      0.005      -0.094      -0.017\n",
       "white         -0.0533      0.021     -2.483      0.017      -0.097      -0.010\n",
       "hs_grad       -0.5697      0.075     -7.569      0.000      -0.721      -0.418\n",
       "==============================================================================\n",
       "Omnibus:                        3.479   Durbin-Watson:                   1.900\n",
       "Prob(Omnibus):                  0.176   Jarque-Bera (JB):                3.230\n",
       "Skew:                           0.607   Prob(JB):                        0.199\n",
       "Kurtosis:                       2.787   Cond. No.                     3.32e+03\n",
       "==============================================================================\n",
       "\n",
       "Warnings:\n",
       "[1] Standard Errors assume that the covariance matrix of the errors is correctly specified.\n",
       "[2] The condition number is large, 3.32e+03. This might indicate that there are\n",
       "strong multicollinearity or other numerical problems.\n",
       "\"\"\""
      ]
     },
     "execution_count": 40,
     "metadata": {},
     "output_type": "execute_result"
    }
   ],
   "source": [
    " #import statsmodels.formula.api as smf\n",
    "\n",
    "'''\n",
    "data_stepik3 = pd.read_csv('https://stepik.org/media/attachments/lesson/8086/states.csv')\n",
    "'''\n",
    "\n",
    "# create a fitted model with all three features\n",
    "lm = smf.ols(formula='poverty ~ metro_res + white + hs_grad', data=data_stepik3).fit()\n",
    "\n",
    "# print the coefficients\n",
    "lm.params\n",
    "\n",
    "# print a summary of the fitted model\n",
    "lm.summary()"
   ]
  },
  {
   "cell_type": "markdown",
   "metadata": {},
   "source": [
    "<ins>Вывод:</ins>\n",
    "+ Уравнение регрессии: <i>Бедность(poverty) = 68.722 + (-0.0555)\\*metro_res + (-0.0533)\\*white + (-0.5697)\\*hs_grad</i>\n",
    "+ В штате, где уровень людей со всеми исследуемыми предикторами (независимыми переменными) будет равен нулю, будет 68.722%(<i>=b<span style = \"font-weight: bold; font-size: 7pt\">0</span></i>) людей, проживающих за чертой бедности. \n",
    "+ Т.к. мы получили <i>p-value &lt; 0.05 </i> для всех факторов: проживание в столичной области (metro_res), уровень образования(hs_grad), процент белого населенния(white). То делаем вывод, что все эти факторы имеют статистически значимую взаимосвязь с исследуемой зависимой переменной - бедностью населения (poverty)  \n",
    "+ Увеличив людей, имеющих среднее образование на 1%, количество людей, проживающих в бедности уменьшается на 0.5697%\n",
    "+ Увеличив людей, проживающих в столичной области на 1%, количество людей, проживающих в бедности уменьшается на 0.0555%\n",
    "+ Увеличив процент белого населения на 1%, количество людей, проживающих в бедности уменьшается на 0.0533%\n",
    "+ 61.8% (<i>=Adj. R-squared</i>) изменчивости нашей зависимой переменной объясняется нашей моделью.\n",
    "\n",
    "<br></br>\n",
    "<ins>Проверим остатки:</ins>\n",
    "\n",
    "![res_exmpl2](pictures/res_exmpl2.jpg)"
   ]
  },
  {
   "cell_type": "markdown",
   "metadata": {},
   "source": [
    "<br/><br/><br/>\n",
    "<center><span style=\"color:black; font-weight: bold; font-size:24pt\">Основы статистики. Часть 2</span></center>\n",
    "<br/><br/>\n",
    "<center><span style=\"color:gray; font-weight: bold; font-size:18pt\">Анализ номинативных данных</span></center>\n",
    "<br/>"
   ]
  },
  {
   "cell_type": "markdown",
   "metadata": {},
   "source": [
    "<center><span style=\"color: violet; font-weight: bold; font-size:14pt\">Критерий χ²-Пирсона</span></center>\n",
    "\n",
    "**H<span style = \"font-size: 7pt\">0</span>:** Распределение частот не отличимо от ожидаемого<br/>\n",
    "**H<span style = \"font-size: 7pt\">1</span>:** Распределение частот отличимо от ожидаемого<br/>\n",
    "**Задача:** Определить, насколько статичстически значимы различия между ожидаемыми и эмпирическими значениями\n",
    "\n",
    "<br/>\n",
    "<span style=\"color: orange; font-weight: bold; font-size:12pt\">Расстояние Хи-квадрат:</span>\n",
    "<br/><br/>\n",
    "<center><strong><i>χ² = ∑( (O<span style = \"font-weight: bold; font-size: 7pt\">i</span> - E<span style = \"font-weight: bold; font-size: 7pt\">i</span>)² / E<span style = \"font-weight: bold; font-size: 7pt\">i</span> )</i></strong></center>\n",
    "\n",
    "где значения <i>O<span style = \"font-weight: bold; font-size: 7pt\">i</span> (Observed)</i> - наблюдаемые частоты, <i>E<span style = \"font-weight: bold; font-size: 7pt\">i</span> (Expexted)</i> - ожидаемые частоты.\n",
    "\n",
    "<br/>\n",
    "\n",
    "![x2_rasstoyznie](pictures/x2_rasstoyznie.jpg)\n",
    "\n",
    "<br/>\n",
    "<span style=\"color: orange; font-weight: bold; font-size:12pt\">Распределение <i>χ²</i> с <i>k</i> степенями свободы</span> (<i>k</i> - сумма слагаемых) — распределение суммы квадратов <i>k</i> независимых стандратных (со средним M<span style= \"font-weight: bold; font-size:7pt\">z</span> = 0 и дисперсией D<span style= \"font-weight: bold; font-size:7pt\">z</span> = 1) случайных величин, распределённых нормальным образом.\n",
    "\n",
    "На графике видно, что отклонение от заданной точки до нуля (<i>χ²</i>) равняется гипотенузе прямоугольного треугольника со сторонами, равными значениям координат по осям <i>OX</i> и <i>OY</i>:\n",
    "\n",
    "![dvum_raspr](pictures/dvum_raspr.jpg)\n",
    "\n",
    "![x2_rasspr](pictures/x2_rasspr.jpg)\n",
    "\n",
    "Чем больше число степеней свободы у распределения хи-квадрат, тем более симметричным становится такое распределение, и тем больше распределение Хи-квадрат стремится к нормальному.\n",
    "\n",
    "[Почему df = N-1 ?](https://stepik.org/lesson/24814/step/10?unit=7105) <br/>\n",
    "<span style=\"color: gray\">При заданном количестве значений только <i>N-1</i> значений будут независимы, зная их все, последнюю <i>1</i> мы всегда можем предсказать, следовательно <i>1</i> значение всегда не независимо от других и его не следует учитывать.</span>\n",
    "\n",
    "<span style=\"color: green; font-weight: bold; font-size:12pt\">Расчёт p-value</span> - [Online-калькулятор для вычисления p-value](https://gallery.shinyapps.io/dist_calc/)\n",
    "\n",
    "<br/>\n",
    "<ins>Рассчитаем значение <i>χ²</i> и p-value в Python:</ins>"
   ]
  },
  {
   "cell_type": "code",
   "execution_count": 41,
   "metadata": {},
   "outputs": [
    {
     "name": "stdout",
     "output_type": "stream",
     "text": [
      "Хи-квадрат = 2.62, p = 0.270\n"
     ]
    }
   ],
   "source": [
    "#from scipy import stats\n",
    "\n",
    "chi2_value, chi2_pvalue = stats.chisquare([18, 55, 27], f_exp=[25, 50, 25]) \n",
    "# Первый массив - эмпирические значения\n",
    "# Второй массив(f_exp=) - ожидаемые значения, можно не указывать, если ожидаемые значения равномерны\n",
    "\n",
    "print(f'Хи-квадрат = {chi2_value:.2f}, p = {chi2_pvalue:.3f}')"
   ]
  },
  {
   "cell_type": "markdown",
   "metadata": {},
   "source": [
    "<br/>\n",
    "<ins>Какой процент наблюдений лежит в диапазоне:</ins>"
   ]
  },
  {
   "cell_type": "code",
   "execution_count": 42,
   "metadata": {},
   "outputs": [
    {
     "name": "stdout",
     "output_type": "stream",
     "text": [
      "В диапазоне от 2 до 4 у распределения хи-квадрат с двумя степенями свободы лежит 23.3% наблюдений.\n"
     ]
    }
   ],
   "source": [
    "#from scipy import stats\n",
    "chi2_down=stats.chi2.cdf(2 , 2) # - (нижняя граница диапазона, число степеней свободы)\n",
    "chi2_up=stats.chi2.cdf(4 , 2) # - (верхняя граница диапазона, число степеней свободы)\n",
    "# stats.chi2.cdf() - вероятность попасть в 95%, т.е. значение, обратное p-value (= 1 - p-value)\n",
    "\n",
    "chi2_interval = chi2_up - chi2_down\n",
    "print(f'В диапазоне от 2 до 4 у распределения хи-квадрат с двумя степенями свободы лежит {chi2_interval:.1%} наблюдений.')"
   ]
  },
  {
   "cell_type": "markdown",
   "metadata": {},
   "source": [
    "<br/><br/>\n",
    "<center><span style=\"color: violet; font-weight: bold; font-size:14pt\">Анализ таблиц сопряженности</span></center>\n",
    "\n",
    "**H<span style = \"font-size: 7pt\">0</span>:** Распределение частот не отличимо от ожидаемого<br/>\n",
    "**H<span style = \"font-size: 7pt\">1</span>:** Распределение частот отличимо от ожидаемого, иными словами: номинативные переменные взаимосвязаны между собой<br/>\n",
    "**Задача:** Исследование наличия взаимосвязи между двумя номинативными переменными\n",
    "\n",
    "<br/>\n",
    "\n",
    "<span style=\"color: green; font-weight: bold; font-size:12pt\">Расчёт ожидаемых значений:</span>\n",
    "\n",
    "<br/>\n",
    "<center><strong><i>f<span style = \"font-weight: bold; font-size: 7pt\">ij</span> = (f<span style = \"font-weight: bold; font-size: 7pt\">i</span> * f<span style = \"font-weight: bold; font-size: 7pt\">j</span>)/ N</i></strong></center>\n",
    "\n",
    "где <i>f<span style = \"font-weight: bold; font-size: 7pt\">i</span></i> - сумма в строке, <i>f<span style = \"font-weight: bold; font-size: 7pt\">j</span></i> - сумма в столбце, <i>N</i> - количество наблюдений в выборке.\n",
    "\n",
    "<br/>\n",
    "\n",
    "![ozhid_znacheniya](pictures/ozhid_znacheniya.jpg)\n",
    "\n",
    "Для поиска взаимосвязи между номинативными переменными, применяем критерий <i>χ²</i>-Пирсона, который проверяет гипотезу о том, что наблюдаемое распределение номинативной переменной отличается от ожидаемого. И рассчитываем p-value со степенями свобод, равными:\n",
    "\n",
    "<br/>\n",
    "<center><strong><i>df = (n - 1) * (m - 1)</i></strong></center>\n",
    "\n",
    "где <i>n</i> - количество столбцов таблицы, <i>m</i> - количество строк\n",
    "\n",
    "<br/>\n",
    "В теории распределение <i>χ²</i> непрерывно, тогда как вычисляемые значения всегда дискретны, в результате <i>H<span style = \"font-size: 7pt\">0</span></i> может отвергаться слишком часто. Чтобы скорректировать значение p-уровня значимости применяется <span style=\"color: orange; font-weight: bold; font-size:12pt\">Поправка Йетса</span> на непрерывность. (Используется для анализа таблицы сопряженности два на два, где значения ожидаемых и наблюдаемых частот в каждой ячейке больше 5, но меньше 10).<br/>\n",
    "\n",
    "<br/>\n",
    "<center><strong><i>χ²<span style = \"font-weight: bold; font-size: 7pt\">Yates</span> = ∑( (|f<span style = \"font-weight: bold; font-size: 5pt\">O</span> - f<span style = \"font-weight: bold; font-size: 5pt\">E</span>| - 0.5)² ) / f<span style = \"font-weight: bold; font-size: 5pt\">E</span></i></strong></center>\n",
    "\n",
    "где f<span style = \"font-weight: bold; font-size: 5pt\">O</span> - эмпирическое значение в ячейке, f<span style = \"font-weight: bold; font-size: 5pt\">E</span> - ожидаемое значение в ячейке\n",
    "\n",
    "<br/>\n",
    "<ins>Рассчитаем ожидаемые значения, число степеней свобод, значение <i>χ²</i> и p-value в Python:</ins>"
   ]
  },
  {
   "cell_type": "code",
   "execution_count": 43,
   "metadata": {},
   "outputs": [
    {
     "name": "stdout",
     "output_type": "stream",
     "text": [
      "Хи-квадрат = 7.114 \n",
      "p-value = 0.008 \n",
      "df = 1\n",
      "\n",
      "Ожидаемые значения:\n",
      "[[13.63636364 11.36363636]\n",
      " [10.36363636  8.63636364]]\n"
     ]
    }
   ],
   "source": [
    "#from scipy import stats\n",
    "observed_array = [ [18, 7], [6, 13] ]\n",
    "\n",
    "chi2_value, p_value, df_value, expected_array = stats.chi2_contingency(observed_array, correction=False) \n",
    "# 'correction=True' - поправка Йетса, работает по умолчанию при df=1, поэтому можно удалить из формулы и ничего не изменится\n",
    "\n",
    "print(f'Хи-квадрат = {chi2_value:.3f} \\np-value = {p_value:.3f} \\ndf = {df_value}')\n",
    "print(f'\\nОжидаемые значения:\\n{expected_array}')"
   ]
  },
  {
   "cell_type": "markdown",
   "metadata": {},
   "source": [
    "<br/>\n",
    "<span style=\"color: green; font-weight: bold; font-size:12pt\">Интерпретретация остатков:</span>\n",
    "\n",
    "Анализ остатков (разница между ожидаемыми и эмпирическими значениями) позволяет выявить, какие именно частоты значимо отклоняются от ожидаемых значений.\n",
    "\n",
    "+ Если значения стандартизированных остатков больше 3х, можно считать, что в этой ячейке зафиксированы значимые отклонения.\n",
    "\n",
    "<br/>\n",
    "<ins>Построим наглядный график в Python:</ins>"
   ]
  },
  {
   "cell_type": "code",
   "execution_count": 44,
   "metadata": {},
   "outputs": [
    {
     "data": {
      "image/png": "[encoded data removed]",
      "text/plain": [
       "<Figure size 432x288 with 3 Axes>"
      ]
     },
     "metadata": {
      "needs_background": "light"
     },
     "output_type": "display_data"
    }
   ],
   "source": [
    "from statsmodels.graphics.mosaicplot import mosaic\n",
    "pill_data = {('Normal', 'Aspirine'): 18, \n",
    "             ('Normal', 'Placebo'): 7,\n",
    "             ('Trombosis', 'Aspirine'): 6,\n",
    "             ('Trombosis', 'Placebo'): 13\n",
    "            }\n",
    "# Значения 18, 7, 6, 13 являются входными значениями и соответсвуют таблице observed_array = [ [18, 7], [6, 13] ]\n",
    "\n",
    "my_plot = mosaic(pill_data, gap=.009)\n",
    "\n",
    "# Ширина прямоугольников соответствует количеству наблюдений\n",
    "# Высота прямоугольников соответствует отклонению ожидаемых и наблюдаемых частот в этой ячейке"
   ]
  },
  {
   "cell_type": "markdown",
   "metadata": {},
   "source": [
    "<br/>\n",
    "<span style=\"color: green; font-weight: bold; font-size:12pt\">Условия применимости критерий χ² при анализе таблиц сопряжённости:</span>\n",
    "\n",
    "+ Все наблюдения независимы\n",
    "+ Минимальное количество наблюдений в каждой из ячеек должно быть больше 5 (иначе нарушается предположение о нормальном распределении переменных)\n",
    "\n",
    "В случае когда размер выборки очень маленький и наблюдений в каждой из ячеек недостаточно (меньше 5), используется <span style=\"color: violet; font-weight: bold; font-size:13pt\">точный критерий Фишера</span>:\n",
    "\n",
    "![tochniy_fisher](pictures/tochniy_fisher.jpg) \n",
    "[Как выводится эта формула](https://stepik.org/lesson/26447/step/3?unit=8328)\n",
    "\n",
    "![tochniy_fisher_primer](pictures/tochniy_fisher_primer.jpg)\n",
    "\n",
    "Почему не рассматриваются варианты 3,1 + 4,0? -> В тесте Фишера фиксированы и суммы по строкам, и суммы по столбцам.\n",
    "\n",
    "<br/>\n",
    "\n",
    "<ins>Расчёт p-value с применением точного критерия Фишера в Python:</ins>"
   ]
  },
  {
   "cell_type": "code",
   "execution_count": 45,
   "metadata": {},
   "outputs": [
    {
     "name": "stdout",
     "output_type": "stream",
     "text": [
      "0.48571428571428527\n"
     ]
    }
   ],
   "source": [
    "#from scipy import stats\n",
    "odds_ratio, p_value = stats.fisher_exact([[1, 3], [3, 1]])  # odds_ratio - отношение шансов\n",
    "\n",
    "print(p_value)"
   ]
  },
  {
   "cell_type": "markdown",
   "metadata": {},
   "source": [
    "<br/><br/>\n",
    "<center><span style=\"color:gray; font-weight: bold; font-size:18pt\">Метод логистической регрессии</span></center>\n",
    "<br/>\n",
    "<span style=\"color: violet; font-weight: bold; font-size:14pt\">Логистическая регрессия</span> используется для исследования взаимосвязи между номинативной зависимой переменной, имеющей всего 2 градации, и различными независимыми переменными (в качестве предикторов могут быть как номинативные, так и количественные переменные).\n",
    "\n",
    "Номинативную переменную с двумя градациями можно представить как два зависимых друг от друга вероятностных исхода, равных <i>p</i> и <i>(1 - p)</i>. <br/>\n",
    "Тогда регрессионная модель, в которой зависимая переменная — это номинативная переменная с двумя градациями:\n",
    "\n",
    "![log_regr](pictures/log_regr.jpg)\n",
    "\n",
    "<span style=\"color: orange; font-weight: bold; font-size:12pt\">Odds (шансы)</span> **= <i>p / (1 - p)</i>** - это отношение вероятности успеха <i>(p)</i> к вероятности неудачи <i>(1 - p)</i> , ∈ \\[0; +∞)\n",
    "\n",
    "<span style=\"color: orange; font-weight: bold; font-size:12pt\">Логарифм шанса <i>(log odds)</i></span> = <i>logit (p)</i> , ∈ (-∞; +∞)\n",
    "\n",
    "+ если <i>log odds > 0 </i>, то <i>p > 1 - p </i>\n",
    "+ если <i>log odds < 0 </i>, то <i>p < 1 - p </i>\n",
    "\n",
    "![log_shans](pictures/log_shans.png)"
   ]
  },
  {
   "cell_type": "code",
   "execution_count": 46,
   "metadata": {},
   "outputs": [
    {
     "data": {
      "text/plain": [
       "0.2689414213699951"
      ]
     },
     "execution_count": 46,
     "metadata": {},
     "output_type": "execute_result"
    }
   ],
   "source": [
    "#import math\n",
    "\n",
    "# Предположим, мы подбросили монетку 100 раз, и 70 раз выпал орел. Чему равняется натуральный логарифм шансов выпадения решки?\n",
    "math.log(30/70)\n",
    "\n",
    "# Предположим, что мы получили логарифм шансов выпадения решки, равный -1. Тогда вероятность выпадения решки равняется:\n",
    "math.exp(-1) / (1 + math.exp(-1))"
   ]
  },
  {
   "cell_type": "markdown",
   "metadata": {},
   "source": [
    "<br/><center><span style=\"color: violet; font-weight: bold; font-size:14pt\">Модель без предикторов</span></center>\n",
    "\n",
    "<br/>Модель без предикторов описывается уравнением: **<i>y = intercept</i>** (одному числу, без предикторов)\n",
    "\n",
    "<span style=\"color: orange; font-weight: bold; font-size:12pt\">Intercept</span> - натуральный логарифм шансов положительного исхода. И свободный член логистической регресии.\n",
    "\n",
    "Т.е. мы хотим предсказать логарифм шансов, используя только одно число: **<i>log( p/(1-p) ) = intercept</i>**\n",
    "\n",
    "<br/>\n",
    "\n",
    "**H<span style = \"font-size: 7pt\">0</span>:** Нет никакой разницы между исходом №1 и исходом №2 и нормальное распределение описывает распределение коэффициентов логистической регрессии:\n",
    "+ <i>p = 1 - p</i>;\n",
    "+ <i>odds = 1</i>;\n",
    "+ Логарифм шансов <i>logit(p) = 0</i> , т.е. logit(p) (он же intercept) имеет нормальное распределение со средним равным 0\n",
    "\n",
    "<br/>\n",
    "\n",
    "![intercept_only_model](pictures/intercept_only_model.jpg)\n",
    "\n",
    "Интерпретация расчётной таблицы:\n",
    "+ Estimate - значение intercept (логарифма шансов)\n",
    "+ Полученная в расчётах стандартная ошибка (<i>se</i>) - это стандартное отклонение, которое имело бы нормальное распределение коэфициента intercept со средним равным 0\n",
    "+ Тогда если разделить значение коэфициента intercept на стандартную ошибку, то получим <i>z-value</i> – расстояние до 0 в стандартных отклонениях.\n",
    "+ Pr(>|z|) - значение <i>p-value</i>, т.е. вероятность получить такое или ещё более сильное отличие intercept от 0 при условии, что верна нулевая гипотеза"
   ]
  },
  {
   "cell_type": "code",
   "execution_count": 47,
   "metadata": {},
   "outputs": [
    {
     "data": {
      "text/plain": [
       "15"
      ]
     },
     "execution_count": 47,
     "metadata": {},
     "output_type": "execute_result"
    }
   ],
   "source": [
    "'''\n",
    "С помощью логистической регрессии без предикторов мы захотели узнать, правда ли, \n",
    "что сдавая Анатолию Дмитриевичу, легче провалить экзамен, чем сдать. \n",
    "В нашей выборке было 50 студентов. Часть из них сдала экзамен (положительный исход), \n",
    "а часть - нет (отрицательный исход). Свободный член нашей регрессии оказался равен -0.8472979. \n",
    "Сколько человек всё-таки сдало экзамен?\n",
    "'''\n",
    "\n",
    "def find_n_sdalo (logit_p, n_vsego):\n",
    "    p = math.exp(logit_p) / (1 + math.exp(logit_p))\n",
    "    n_sdalo = round(p * n_vsego)\n",
    "    return n_sdalo\n",
    "\n",
    "logit_p = -0.8472979\n",
    "n_vsego = 50\n",
    "\n",
    "find_n_sdalo (logit_p, n_vsego)"
   ]
  },
  {
   "cell_type": "markdown",
   "metadata": {},
   "source": [
    "<br/><center><span style=\"color: violet; font-weight: bold; font-size:14pt\">Модель с одним номинативным предиктором</span></center>\n",
    "\n",
    "Таблица зависимостей шансов выжить у мужчин и женщин:\n",
    "![y_n_f_m](pictures/y_n_f_m.jpg)\n",
    "\n",
    "<br/><i>odds_male</i> = 93 / 360 = 0.26\n",
    "<br/><i>odds_female</i> = 197 / 64 = 3.08\n",
    "\n",
    "**intercept** - натуральный логарифм шансов положительного исхода для женщин\n",
    "<br/><i>log(odds_female)</i> = 1.12\n",
    "\n",
    "**коэф-т при Х** - натуральный логарифм отношения шансов положительного исхода для мужчин и шансов для женщин (он же - разность логарифмов шансов)\n",
    "<br/><i>odds_ratio = odds_male / odds_female</i>\n",
    "<br/><i>log(odds_ratio) </i> = - 2.48\n",
    "<br/>По свойству логарифмов: <i>log(odds_ratio) = log(odds_male) - log(odds_female)</i> \n",
    "\n",
    "![log_model_1x](pictures/log_model_1x.jpg)\n",
    "\n",
    "Т.к. переменные Female и Male зависимы друг от друга (мультиколлинеарны), разумно в построении модели использовать только одну из них (любую, у нас выбраны женщины, просто по алфавиту), а вторую назначить значением intercept. Поэтому, смотрим, какой градации-предиктора нет среди коэффициентов, это и будет intercept\n",
    "\n",
    "![ln_odds](pictures/ln_odds.jpg)\n",
    "<br/><i>log(odds_female)</i> = 1.12 - 2.48 * Sex_Male = 1.12 - 2.48 * 0 = 1.12\n",
    "<br/><i>log(odds_male)</i> = 1.12 - 2.48 * Sex_Male = 1.12 - 2.48 * 1 = - 1.35\n",
    "\n",
    "<br/>Интерпетация таблицы, если значений зависимой переменной более двух:\n",
    "\n",
    "![log_regr_1x-3](pictures/log_regr_1x-3.png)\n",
    "\n",
    "<br/>В отличии от теста χ²-Пирсона, логистическая регрессия не только указала что две переменные взаимосвязаны, но указала шансы для разных градаций независимой переменной.\n",
    "\n",
    "<br/>[Сколько предикторов наиболее удачно включитьв логистическую модель?](https://stepik.org/lesson/26555/step/10?unit=8403)\n",
    "\n",
    "<br/><ins>Расчёт логистической модели с одним номинативным предиктором в Python:</ins>"
   ]
  },
  {
   "cell_type": "code",
   "execution_count": 48,
   "metadata": {},
   "outputs": [
    {
     "name": "stdout",
     "output_type": "stream",
     "text": [
      "                 Generalized Linear Model Regression Results                  \n",
      "==============================================================================\n",
      "Dep. Variable:                      y   No. Observations:                  714\n",
      "Model:                            GLM   Df Residuals:                      712\n",
      "Model Family:                Binomial   Df Model:                            1\n",
      "Link Function:                  logit   Scale:                          1.0000\n",
      "Method:                          IRLS   Log-Likelihood:                -375.35\n",
      "Date:                Tue, 05 May 2020   Deviance:                       750.70\n",
      "Time:                        14:17:20   Pearson chi2:                     714.\n",
      "No. Iterations:                     4                                         \n",
      "Covariance Type:            nonrobust                                         \n",
      "==============================================================================\n",
      "                 coef    std err          z      P>|z|      [0.025      0.975]\n",
      "------------------------------------------------------------------------------\n",
      "const          1.1243      0.144      7.814      0.000       0.842       1.406\n",
      "0             -2.4778      0.185    -13.392      0.000      -2.840      -2.115\n",
      "==============================================================================\n",
      "\n",
      "\n",
      "\n",
      "                       Generalized Linear Model Regression Results                        \n",
      "==========================================================================================\n",
      "Dep. Variable:     ['Survived[0]', 'Survived[1]']   No. Observations:                  714\n",
      "Model:                                        GLM   Df Residuals:                      712\n",
      "Model Family:                            Binomial   Df Model:                            1\n",
      "Link Function:                              logit   Scale:                          1.0000\n",
      "Method:                                      IRLS   Log-Likelihood:                -375.35\n",
      "Date:                            Tue, 05 May 2020   Deviance:                       750.70\n",
      "Time:                                    14:17:20   Pearson chi2:                     714.\n",
      "No. Iterations:                                 4                                         \n",
      "Covariance Type:                        nonrobust                                         \n",
      "===============================================================================\n",
      "                  coef    std err          z      P>|z|      [0.025      0.975]\n",
      "-------------------------------------------------------------------------------\n",
      "Intercept      -1.1243      0.144     -7.814      0.000      -1.406      -0.842\n",
      "Sex[T.male]     2.4778      0.185     13.392      0.000       2.115       2.840\n",
      "===============================================================================\n"
     ]
    }
   ],
   "source": [
    "#import pandas as pd\n",
    "#import statsmodels.api as sm\n",
    "#import statsmodels.formula.api as smf\n",
    "\n",
    "category_columns = { col: 'category' for col in ['Survived', 'Sex'] }  # приведение выбранных колонок к категориальному\n",
    "\n",
    "data_titanic = pd.read_csv('https://stepic.org/media/attachments/course/524/train.csv', dtype=category_columns)\n",
    "data_titanic = data_titanic[data_titanic.Age.notnull()]\n",
    "\n",
    "# Зависимая переменная обычно обозначается как \"Y\" или \"y\"\n",
    "Y = data_titanic.loc[:,'Survived'].cat.codes\n",
    "\n",
    "# То о чем говорил преподаватель: колонку пол c двумя градациями нужно трансформировать в 2 колонки для каждого пола\n",
    "X = sm.add_constant( data_titanic.loc[:,'Sex'].cat.codes )\n",
    "\n",
    "#\n",
    "# ВЫЧИСЛЯЕМ  \n",
    "#\n",
    "# Классическое представление результат-предиктор(ы), которое используется в классификаторах\n",
    "glm_binom = sm.GLM(Y, X, family=sm.families.Binomial())\n",
    "res = glm_binom.fit()\n",
    "\n",
    "# Можно и так (кто привык к R)\n",
    "glm_binom_rstyle = smf.glm(formula=\"Survived ~ Sex\", data=data_titanic, family=sm.families.Binomial())\n",
    "res_rstyle = glm_binom_rstyle.fit()\n",
    "\n",
    "\n",
    "print( res.summary() )\n",
    "print('\\n\\n')\n",
    "print( res_rstyle.summary() )"
   ]
  },
  {
   "cell_type": "markdown",
   "metadata": {},
   "source": [
    "<br/><br/><center><span style=\"color: violet; font-weight: bold; font-size:14pt\">Модель с двумя номинативными предикторами</span></center>\n",
    "\n",
    "<br/>Таблицы зависимостей шансов выжить у мужчин и женщин в зависимости от класса:\n",
    "\n",
    "![y_n_f_m_1_2_3](pictures/y_n_f_m_1_2_3.png)\n",
    "\n",
    "На графике:\n",
    "\n",
    "![gr_y_n_f_m_1_2_3](pictures/gr_y_n_f_m_1_2_3.jpg)\n",
    "\n",
    "\n",
    "Интерпретация таблицы:\n",
    "\n",
    "![tab_y_n_f_m_1_2_3](pictures/tab_y_n_f_m_1_2_3.jpg)\n",
    "\n",
    "<br/>Уравнение регрессии:\n",
    "\n",
    "<br/><center><i>ln(odds) = 3.3 - 3.7\\*SexMale - 0.88\\*PclassSecond - 3.46\\*PclassThird - 0.42\\*SexMale\\*PclassSecond  + 2.15\\*SexMale\\*PclassThird</i></center> "
   ]
  },
  {
   "cell_type": "markdown",
   "metadata": {},
   "source": [
    "<br/><center><span style=\"color: violet; font-weight: bold; font-size:14pt\">Смешаная регрессионная модель</span></center>\n",
    "\n",
    "Модель, в которой учитываются и количественные и номинативные переменные\n",
    "\n",
    "![dif_regr](pictures/dif_regr.png)"
   ]
  },
  {
   "cell_type": "markdown",
   "metadata": {},
   "source": [
    "<br/><br/>\n",
    "<center><span style=\"color:gray; font-weight: bold; font-size:18pt\">Непараметрические методы</span></center>\n",
    "<br/><br/>\n",
    "<center><span style=\"color: violet; font-weight: bold; font-size:14pt\">U-критерий Манна-Уитни</span></center>\n",
    "\n",
    "<span style=\"color: gray\">Непараметрический аналог <i>t</i>-критерия Стьюдента. Используется для оценки различий между двумя независимыми выборками, в которых признак измерен в метрической или ранговой шкале.</span>\n",
    "\n",
    "[Видео на Stepik](https://stepik.org/lesson/26822/step/3?unit=8557)\n",
    "\n",
    "Самым популярным непараметрическим критерием для сравнения двух групп является U-критерий Манна — Уитни. Логика данного критерия заключается в том, что вместо сравнения средних значений в двух выборках критерий сравнивает сумму рангов (не медианы, как многие думают). Мы сначала упорядочиваем все данные, затем рассчитываем сумму рангов в каждой из групп.\n",
    "\n",
    "Затем для каждой из выборок рассчитывается показатель:\n",
    "\n",
    "![U_1](pictures/U_1.jpg)\n",
    "\n",
    "Наименьшее из полученных значений и выступает в качестве статистики теста. Легко показать, что при условии верности нулевой гипотезы распределение этой статистики подчиняется нормальному распределению, где \n",
    "\n",
    "![U_2](pictures/U_2.jpg)\n",
    "\n",
    "что и позволяет нам рассчитать вероятность получить наблюдаемые или еще более выраженные различия суммы рангов.\n",
    "\n",
    "**Разумно применять вместо t - теста:**\n",
    "\n",
    "1. Распределения хотя бы в одной из выборок значительно отличается от нормального. \n",
    "2. Есть заметные выбросы в данных. \n",
    "3. В некоторых задачах мощность теста даже выше, чем t критерия (например, когда обеих выборках наблюдается заметная асимметрия в одинаковом направлении). \n",
    "\n",
    "**Неразумно применять:**\n",
    "\n",
    "1. Выборки разного размера, с различным направлением асимметрии.  \n",
    "\n",
    "<br/><br/>\n",
    "<center><span style=\"color: violet; font-weight: bold; font-size:14pt\">Критерий Краскела-Уоллиса</span></center>\n",
    "\n",
    "Если при сравнении трёх и более групп нарушаются требования и к гомогенности дисперсий и к нормальности распределений, лучше применять непараметрический аналог дисперсионного анализа - критерий Краскела-Уоллиса.\n",
    "\n",
    "![KruskalWallis_1](pictures/KruskalWallis_1.jpg)\n",
    "\n",
    "![KruskalWallis_2](pictures/KruskalWallis_2.jpg)"
   ]
  },
  {
   "cell_type": "markdown",
   "metadata": {},
   "source": [
    "<br/><br/>\n",
    "<center><span style=\"color:gray; font-weight: bold; font-size:18pt\">Кластерный анализ и метод главных компонент</span></center><br/>\n",
    "\n",
    "Метод кластерного анализа относится к группе методов \"обучение без учителя\". Это значит, что никто не знает правильного ответа на интересующий нас вопрос и нет никакой обратной связи.\n",
    "\n",
    "**Постановка задачи:** Разбить данные на группы\n",
    "\n",
    "<span style=\"color: orange; font-weight: bold; font-size:12pt\">Кластерный анализ</span> - анализирует наблюдения (по строкам), и отвечает на вопросы, есть ли в данных подгруппы/кластеры испытуемых и сколько таких кластеров лучше выделить.\n",
    "\n",
    "<span style=\"color: orange; font-weight: bold; font-size:12pt\">Метод главных компонент</span> - анализирует наблюдения (по столбцам), и отвечает на вопрос можно ли сократить размерность данных, объединив некоторые из них в группы (интегративные переменные).\n",
    "\n",
    "<br/><br/>\n",
    "<center><span style=\"color: violet; font-weight: bold; font-size:14pt\">Кластерный анализ методом k-средних</span></center>\n",
    "<br/>\n",
    "\n",
    "**Алгоритм метода k-средних:**\n",
    "1. Сами решаем на сколько кластеров будем делить.\n",
    "2. Случайно выбираем начальные позиции центроидов кластера.\n",
    "3. Для каждого наблюдения определяем, к какому центроиду он ближе всего.\n",
    "4. Обновим позиции центроидов (среднее по каждой переменной для группы).\n",
    "5. Если принадлежности некоторых точек изменились, то пункт 4, иначе алгоритм сошелся.\n",
    "\n",
    "<span style=\"color: orange; font-weight: bold; font-size:12pt\">Центроиды</span> - геометрические центры предполагаемых кластеров с координатами \\[ср.значение переменной OX в границах кластера; ср.значение переменной OY в границах кластера\\]\n",
    "\n",
    "[Визуализация метода](https://www.naftaliharris.com/blog/visualizing-k-means-clustering/)\n",
    "\n",
    "В методе существует элемент случайности. При многократном повторении кластеризации на одних и тех же данных мы можем получать различные варианты кластерного решения. Чем менее явно представлена в наших данных кластерзация наблюдений, тем более существенными могут оказаться различия. \n",
    "\n",
    "Возможно метод сойдется не очень удачно: метод “увяз” в локальном минимуме. \n",
    "**Решения:** \n",
    "+ Начальные точки брать наиболее далеко друг от друга; \n",
    "+ Провести кластерный анализ много раз с разными начальными позициями. (Если каждый раз из разных случайных начальных положений центроидов, кластерный анализ приходит в одно и то же положение, скорее всего, это не случайно)\n",
    "\n",
    "<br/>\n",
    "<span style=\"color: green; font-weight: bold; font-size:12pt\">Оптимальное число кластеров</span>\n",
    "\n",
    "Для того, чтобы выяснить, какое число кластеров оптимально, можно многократно проводить кластерный анализ, каждый раз выделяя разное кол-во кластеров и каждый раз забисываем значение общей внутрикластерной суммы квадратов.\n",
    "\n",
    "Если добавление одного кластера в наши данные значительно понижает общую сумму квадратов, то в увелечении числа кластеров есть смысл. Когда последующее увеличение кластеров уже не оказывает такого сильного влияния, значит мы нашли оптимальное число кластеров.\n",
    "\n",
    "Если при увелечении числа кластеров плавное снижение общей внтуригрупповой суммы квадратов, то значит нет явной класторной структуры в данных.\n",
    "\n",
    "![klaster](pictures/klaster.jpg)\n",
    "\n",
    "<ins>Расчёт внутригрупповой суммы квадратов в Python:</ins>"
   ]
  },
  {
   "cell_type": "code",
   "execution_count": 49,
   "metadata": {},
   "outputs": [
    {
     "name": "stdout",
     "output_type": "stream",
     "text": [
      "[[3. 5.]]\n",
      "146.0\n"
     ]
    }
   ],
   "source": [
    "from sklearn.cluster import KMeans\n",
    "#import numpy as np\n",
    "\n",
    "# Запишем координаты точек в виде массива numpy\n",
    "X = np.array([[-3, 3], [1, 4], [2, 6], [3, 8], [5, 2], [6, 11], [7, 1]])\n",
    "\n",
    "# Обучим модель KMeans на нашем массиве с одним кластером\n",
    "kmeans = KMeans(n_clusters=1).fit(X)\n",
    "\n",
    "# Выведем координаты центроида данного кластера\n",
    "print(kmeans.cluster_centers_)\n",
    "\n",
    "# Выведем сумму квадратов расстояний точек от центроида = аттрибут модели kmeans\n",
    "print(kmeans.inertia_)"
   ]
  },
  {
   "cell_type": "markdown",
   "metadata": {},
   "source": [
    "<br/>\n",
    "<center><span style=\"color: violet; font-weight: bold; font-size:14pt\">Иерархическая кластеризация</span></center>\n",
    "\n",
    "**Идея метода:**\n",
    "+ Рассчитывается расстояние от каждой точки до каждой точки \n",
    "+ Производится кластеризация методами иереархической кластеризации, например:\n",
    " + [метод одиночной связи (ближайшего соседа)](https://stepik.org/lesson/27110/step/2?unit=8682) - Постепенно объеденяет две самые близкие точки в кластер, заменея их центроидом. В первую очередь объединяет самые близкие точки.\n",
    " + метод дальнего соседа - в последнюю очередь объединяет самые близкие точки.\n",
    " \n",
    "![klaster2](pictures/klaster2.png)\n",
    "\n",
    "![klaster1](pictures/klaster1.png)\n",
    "\n",
    "**Методы иерархической кластеризации и k-средних можно комбинировать**. Сначала применить метод иерархической кластеризации, оценить полученное количество веток, и использовать это число для метода k-средних."
   ]
  },
  {
   "cell_type": "markdown",
   "metadata": {},
   "source": [
    "<br/><br/>\n",
    "<center><span style=\"color: violet; font-weight: bold; font-size:14pt\">Метод главных компонент</span></center> \n",
    " \n",
    "![pca](pictures/pca.png)\n",
    "\n",
    "В случае сильной корреляции двух переменных, регрессионная прямая может стать осью главной компоненты (РС1). Тогда значения новой интегративной переменной - это проекция(расстояние) на ось РС1. \n",
    "\n",
    "Значения по оси РС1 - это значения корреляции м/у двумя переменными. Например, OX-рост OY-вес, тогда РС1-конституция тела.\n",
    "\n",
    "Чем сильнее корреляция м/у переменными, тем меньше информации потеряется. При этом \"знак\" отклонения не учитывается, т.е. зная только значение по оси РС1 мы не можем знать, в какую сторону от регр. прямой отклоняется предсказ.наблюдение.\n",
    "\n",
    "Информация о \"знаке\" предсказ. значения может хранится в оси РС2 - перпендикуляру оси РС1. Но с учётом информациии по оси РС2, мы увеличиваем процент объяснённой дисперсии всего на 5%, что позволяет нам не учитывать эту информацию.\n",
    "\n",
    "![pca2](pictures/pca2.png)\n",
    "\n",
    "Таким образом, корреляционная прямая, новая ось РС1, становится одной новой переменной (интегративной переменной) вместо двух переменных по осям OX и OY. Это позволяет нам снизить размерность данных.\n",
    "\n",
    "![biplot](pictures/biplot.png)\n",
    "\n",
    "Если на графике biplot угол между переменными равен 90 градусов, значит коэффициент корреляции межу ними равняется нулю.\n",
    "\n",
    "[Пример анализа главных компонент, когда переменных больше двух](https://stepik.org/lesson/27111/step/6?unit=8681)\n",
    "\n",
    "<br/><br/>\n",
    "<center><span style=\"color: violet; font-weight: bold; font-size:14pt\">Факторный анализ</span></center>\n",
    "\n",
    "![factor](pictures/factor.jpg)"
   ]
  },
  {
   "cell_type": "code",
   "execution_count": null,
   "metadata": {},
   "outputs": [],
   "source": []
  }
 ],
 "metadata": {
  "kernelspec": {
   "display_name": "Python 3",
   "language": "python",
   "name": "python3"
  },
  "language_info": {
   "codemirror_mode": {
    "name": "ipython",
    "version": 3
   },
   "file_extension": ".py",
   "mimetype": "text/x-python",
   "name": "python",
   "nbconvert_exporter": "python",
   "pygments_lexer": "ipython3",
   "version": "3.7.6"
  }
 },
 "nbformat": 4,
 "nbformat_minor": 4
}
